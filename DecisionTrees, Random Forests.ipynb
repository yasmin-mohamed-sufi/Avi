{
 "cells": [
  {
   "cell_type": "code",
   "execution_count": 16,
   "id": "ffc49837-0256-4672-be2d-a5d907c93ad2",
   "metadata": {},
   "outputs": [],
   "source": [
    "import pandas as pd\n",
    "import matplotlib.pyplot as plt\n",
    "from sklearn.tree import DecisionTreeClassifier\n",
    "from sklearn.model_selection import train_test_split\n",
    "from sklearn.metrics import classification_report"
   ]
  },
  {
   "cell_type": "code",
   "execution_count": 17,
   "id": "405b5c9e-8298-451c-ab33-dec9aafa5d25",
   "metadata": {},
   "outputs": [],
   "source": [
    "url1 = 'https://raw.githubusercontent.com/yasmin-mohamed-sufi/Avi/main/df_t1new.csv'\n",
    "df_1 = pd.read_csv(url1)\n",
    "\n",
    "url2 = 'https://raw.githubusercontent.com/yasmin-mohamed-sufi/Avi/main/df_t2new.csv'\n",
    "df_2 = pd.read_csv(url2)\n"
   ]
  },
  {
   "cell_type": "code",
   "execution_count": 18,
   "id": "01b69387-5296-4fea-bc8a-3065515ff8c9",
   "metadata": {},
   "outputs": [
    {
     "data": {
      "text/html": [
       "<div>\n",
       "<style scoped>\n",
       "    .dataframe tbody tr th:only-of-type {\n",
       "        vertical-align: middle;\n",
       "    }\n",
       "\n",
       "    .dataframe tbody tr th {\n",
       "        vertical-align: top;\n",
       "    }\n",
       "\n",
       "    .dataframe thead th {\n",
       "        text-align: right;\n",
       "    }\n",
       "</style>\n",
       "<table border=\"1\" class=\"dataframe\">\n",
       "  <thead>\n",
       "    <tr style=\"text-align: right;\">\n",
       "      <th></th>\n",
       "      <th>Unnamed: 0</th>\n",
       "      <th>dangerLevel</th>\n",
       "      <th>elevation_th</th>\n",
       "      <th>HN72_24</th>\n",
       "      <th>HN24_7d</th>\n",
       "      <th>Pen_depth</th>\n",
       "      <th>HN24</th>\n",
       "      <th>min_ccl_pen</th>\n",
       "      <th>RH</th>\n",
       "      <th>wind_trans24_3d</th>\n",
       "      <th>wind_trans24</th>\n",
       "      <th>wind_trans24_7d</th>\n",
       "      <th>warnreg</th>\n",
       "    </tr>\n",
       "  </thead>\n",
       "  <tbody>\n",
       "    <tr>\n",
       "      <th>0</th>\n",
       "      <td>6</td>\n",
       "      <td>2.0</td>\n",
       "      <td>2000.0</td>\n",
       "      <td>54.171375</td>\n",
       "      <td>107.07</td>\n",
       "      <td>42.120689</td>\n",
       "      <td>31.513500</td>\n",
       "      <td>0.18</td>\n",
       "      <td>94.3750</td>\n",
       "      <td>6.60</td>\n",
       "      <td>4.150375</td>\n",
       "      <td>29.01</td>\n",
       "      <td>15.0</td>\n",
       "    </tr>\n",
       "    <tr>\n",
       "      <th>1</th>\n",
       "      <td>9</td>\n",
       "      <td>2.0</td>\n",
       "      <td>2300.0</td>\n",
       "      <td>69.655625</td>\n",
       "      <td>104.03</td>\n",
       "      <td>29.936934</td>\n",
       "      <td>36.570125</td>\n",
       "      <td>0.21</td>\n",
       "      <td>88.7500</td>\n",
       "      <td>5.05</td>\n",
       "      <td>1.358000</td>\n",
       "      <td>15.72</td>\n",
       "      <td>15.0</td>\n",
       "    </tr>\n",
       "    <tr>\n",
       "      <th>2</th>\n",
       "      <td>16</td>\n",
       "      <td>3.0</td>\n",
       "      <td>2000.0</td>\n",
       "      <td>102.098125</td>\n",
       "      <td>150.70</td>\n",
       "      <td>37.159607</td>\n",
       "      <td>54.272000</td>\n",
       "      <td>0.24</td>\n",
       "      <td>93.3750</td>\n",
       "      <td>112.12</td>\n",
       "      <td>105.515000</td>\n",
       "      <td>132.03</td>\n",
       "      <td>15.0</td>\n",
       "    </tr>\n",
       "    <tr>\n",
       "      <th>3</th>\n",
       "      <td>18</td>\n",
       "      <td>2.0</td>\n",
       "      <td>2300.0</td>\n",
       "      <td>80.960375</td>\n",
       "      <td>136.84</td>\n",
       "      <td>39.275160</td>\n",
       "      <td>43.528125</td>\n",
       "      <td>0.20</td>\n",
       "      <td>81.8750</td>\n",
       "      <td>0.00</td>\n",
       "      <td>0.000000</td>\n",
       "      <td>4.90</td>\n",
       "      <td>15.0</td>\n",
       "    </tr>\n",
       "    <tr>\n",
       "      <th>4</th>\n",
       "      <td>26</td>\n",
       "      <td>2.0</td>\n",
       "      <td>2300.0</td>\n",
       "      <td>61.764875</td>\n",
       "      <td>101.70</td>\n",
       "      <td>26.552468</td>\n",
       "      <td>0.574625</td>\n",
       "      <td>0.28</td>\n",
       "      <td>60.6250</td>\n",
       "      <td>15.61</td>\n",
       "      <td>11.662125</td>\n",
       "      <td>23.97</td>\n",
       "      <td>15.0</td>\n",
       "    </tr>\n",
       "    <tr>\n",
       "      <th>...</th>\n",
       "      <td>...</td>\n",
       "      <td>...</td>\n",
       "      <td>...</td>\n",
       "      <td>...</td>\n",
       "      <td>...</td>\n",
       "      <td>...</td>\n",
       "      <td>...</td>\n",
       "      <td>...</td>\n",
       "      <td>...</td>\n",
       "      <td>...</td>\n",
       "      <td>...</td>\n",
       "      <td>...</td>\n",
       "      <td>...</td>\n",
       "    </tr>\n",
       "    <tr>\n",
       "      <th>64508</th>\n",
       "      <td>211749</td>\n",
       "      <td>2.0</td>\n",
       "      <td>2600.0</td>\n",
       "      <td>3.161125</td>\n",
       "      <td>21.94</td>\n",
       "      <td>7.603113</td>\n",
       "      <td>0.451625</td>\n",
       "      <td>2.16</td>\n",
       "      <td>49.4375</td>\n",
       "      <td>4.27</td>\n",
       "      <td>1.782500</td>\n",
       "      <td>16.54</td>\n",
       "      <td>21.0</td>\n",
       "    </tr>\n",
       "    <tr>\n",
       "      <th>64509</th>\n",
       "      <td>211754</td>\n",
       "      <td>2.0</td>\n",
       "      <td>2600.0</td>\n",
       "      <td>16.543375</td>\n",
       "      <td>58.03</td>\n",
       "      <td>14.847116</td>\n",
       "      <td>0.948000</td>\n",
       "      <td>0.35</td>\n",
       "      <td>65.1375</td>\n",
       "      <td>17.32</td>\n",
       "      <td>1.242250</td>\n",
       "      <td>33.48</td>\n",
       "      <td>21.0</td>\n",
       "    </tr>\n",
       "    <tr>\n",
       "      <th>64510</th>\n",
       "      <td>211755</td>\n",
       "      <td>2.0</td>\n",
       "      <td>2400.0</td>\n",
       "      <td>40.174625</td>\n",
       "      <td>61.44</td>\n",
       "      <td>17.816030</td>\n",
       "      <td>5.519375</td>\n",
       "      <td>0.27</td>\n",
       "      <td>75.9875</td>\n",
       "      <td>18.12</td>\n",
       "      <td>5.835375</td>\n",
       "      <td>24.40</td>\n",
       "      <td>21.0</td>\n",
       "    </tr>\n",
       "    <tr>\n",
       "      <th>64511</th>\n",
       "      <td>211758</td>\n",
       "      <td>2.0</td>\n",
       "      <td>2400.0</td>\n",
       "      <td>27.050875</td>\n",
       "      <td>40.95</td>\n",
       "      <td>11.679789</td>\n",
       "      <td>1.507250</td>\n",
       "      <td>0.30</td>\n",
       "      <td>65.5375</td>\n",
       "      <td>20.83</td>\n",
       "      <td>5.153125</td>\n",
       "      <td>39.55</td>\n",
       "      <td>21.0</td>\n",
       "    </tr>\n",
       "    <tr>\n",
       "      <th>64512</th>\n",
       "      <td>211759</td>\n",
       "      <td>2.0</td>\n",
       "      <td>2600.0</td>\n",
       "      <td>6.463250</td>\n",
       "      <td>36.83</td>\n",
       "      <td>11.283570</td>\n",
       "      <td>0.000000</td>\n",
       "      <td>0.40</td>\n",
       "      <td>62.0500</td>\n",
       "      <td>3.88</td>\n",
       "      <td>0.000000</td>\n",
       "      <td>7.32</td>\n",
       "      <td>21.0</td>\n",
       "    </tr>\n",
       "  </tbody>\n",
       "</table>\n",
       "<p>64513 rows × 13 columns</p>\n",
       "</div>"
      ],
      "text/plain": [
       "       Unnamed: 0  dangerLevel  elevation_th     HN72_24  HN24_7d  Pen_depth  \\\n",
       "0               6          2.0        2000.0   54.171375   107.07  42.120689   \n",
       "1               9          2.0        2300.0   69.655625   104.03  29.936934   \n",
       "2              16          3.0        2000.0  102.098125   150.70  37.159607   \n",
       "3              18          2.0        2300.0   80.960375   136.84  39.275160   \n",
       "4              26          2.0        2300.0   61.764875   101.70  26.552468   \n",
       "...           ...          ...           ...         ...      ...        ...   \n",
       "64508      211749          2.0        2600.0    3.161125    21.94   7.603113   \n",
       "64509      211754          2.0        2600.0   16.543375    58.03  14.847116   \n",
       "64510      211755          2.0        2400.0   40.174625    61.44  17.816030   \n",
       "64511      211758          2.0        2400.0   27.050875    40.95  11.679789   \n",
       "64512      211759          2.0        2600.0    6.463250    36.83  11.283570   \n",
       "\n",
       "            HN24  min_ccl_pen       RH  wind_trans24_3d  wind_trans24  \\\n",
       "0      31.513500         0.18  94.3750             6.60      4.150375   \n",
       "1      36.570125         0.21  88.7500             5.05      1.358000   \n",
       "2      54.272000         0.24  93.3750           112.12    105.515000   \n",
       "3      43.528125         0.20  81.8750             0.00      0.000000   \n",
       "4       0.574625         0.28  60.6250            15.61     11.662125   \n",
       "...          ...          ...      ...              ...           ...   \n",
       "64508   0.451625         2.16  49.4375             4.27      1.782500   \n",
       "64509   0.948000         0.35  65.1375            17.32      1.242250   \n",
       "64510   5.519375         0.27  75.9875            18.12      5.835375   \n",
       "64511   1.507250         0.30  65.5375            20.83      5.153125   \n",
       "64512   0.000000         0.40  62.0500             3.88      0.000000   \n",
       "\n",
       "       wind_trans24_7d  warnreg  \n",
       "0                29.01     15.0  \n",
       "1                15.72     15.0  \n",
       "2               132.03     15.0  \n",
       "3                 4.90     15.0  \n",
       "4                23.97     15.0  \n",
       "...                ...      ...  \n",
       "64508            16.54     21.0  \n",
       "64509            33.48     21.0  \n",
       "64510            24.40     21.0  \n",
       "64511            39.55     21.0  \n",
       "64512             7.32     21.0  \n",
       "\n",
       "[64513 rows x 13 columns]"
      ]
     },
     "execution_count": 18,
     "metadata": {},
     "output_type": "execute_result"
    }
   ],
   "source": [
    "#merge the 2 datasets we imported from github\n",
    "df_list = [df_1, df_2]\n",
    "df = pd.concat(df_list, axis=0, join=\"outer\", ignore_index=True)\n",
    "df"
   ]
  },
  {
   "cell_type": "code",
   "execution_count": 19,
   "id": "cec01604-0e15-4b77-89b8-087389cd95ac",
   "metadata": {},
   "outputs": [
    {
     "data": {
      "text/html": [
       "<div>\n",
       "<style scoped>\n",
       "    .dataframe tbody tr th:only-of-type {\n",
       "        vertical-align: middle;\n",
       "    }\n",
       "\n",
       "    .dataframe tbody tr th {\n",
       "        vertical-align: top;\n",
       "    }\n",
       "\n",
       "    .dataframe thead th {\n",
       "        text-align: right;\n",
       "    }\n",
       "</style>\n",
       "<table border=\"1\" class=\"dataframe\">\n",
       "  <thead>\n",
       "    <tr style=\"text-align: right;\">\n",
       "      <th></th>\n",
       "      <th>dangerLevel</th>\n",
       "      <th>elevation_th</th>\n",
       "      <th>HN72_24</th>\n",
       "      <th>HN24_7d</th>\n",
       "      <th>Pen_depth</th>\n",
       "      <th>HN24</th>\n",
       "      <th>min_ccl_pen</th>\n",
       "      <th>RH</th>\n",
       "      <th>wind_trans24_3d</th>\n",
       "      <th>wind_trans24</th>\n",
       "      <th>wind_trans24_7d</th>\n",
       "      <th>warnreg</th>\n",
       "    </tr>\n",
       "  </thead>\n",
       "  <tbody>\n",
       "    <tr>\n",
       "      <th>0</th>\n",
       "      <td>2.0</td>\n",
       "      <td>2000.0</td>\n",
       "      <td>54.171375</td>\n",
       "      <td>107.07</td>\n",
       "      <td>42.120689</td>\n",
       "      <td>31.513500</td>\n",
       "      <td>0.18</td>\n",
       "      <td>94.3750</td>\n",
       "      <td>6.60</td>\n",
       "      <td>4.150375</td>\n",
       "      <td>29.01</td>\n",
       "      <td>15.0</td>\n",
       "    </tr>\n",
       "    <tr>\n",
       "      <th>1</th>\n",
       "      <td>2.0</td>\n",
       "      <td>2300.0</td>\n",
       "      <td>69.655625</td>\n",
       "      <td>104.03</td>\n",
       "      <td>29.936934</td>\n",
       "      <td>36.570125</td>\n",
       "      <td>0.21</td>\n",
       "      <td>88.7500</td>\n",
       "      <td>5.05</td>\n",
       "      <td>1.358000</td>\n",
       "      <td>15.72</td>\n",
       "      <td>15.0</td>\n",
       "    </tr>\n",
       "    <tr>\n",
       "      <th>2</th>\n",
       "      <td>3.0</td>\n",
       "      <td>2000.0</td>\n",
       "      <td>102.098125</td>\n",
       "      <td>150.70</td>\n",
       "      <td>37.159607</td>\n",
       "      <td>54.272000</td>\n",
       "      <td>0.24</td>\n",
       "      <td>93.3750</td>\n",
       "      <td>112.12</td>\n",
       "      <td>105.515000</td>\n",
       "      <td>132.03</td>\n",
       "      <td>15.0</td>\n",
       "    </tr>\n",
       "    <tr>\n",
       "      <th>3</th>\n",
       "      <td>2.0</td>\n",
       "      <td>2300.0</td>\n",
       "      <td>80.960375</td>\n",
       "      <td>136.84</td>\n",
       "      <td>39.275160</td>\n",
       "      <td>43.528125</td>\n",
       "      <td>0.20</td>\n",
       "      <td>81.8750</td>\n",
       "      <td>0.00</td>\n",
       "      <td>0.000000</td>\n",
       "      <td>4.90</td>\n",
       "      <td>15.0</td>\n",
       "    </tr>\n",
       "    <tr>\n",
       "      <th>4</th>\n",
       "      <td>2.0</td>\n",
       "      <td>2300.0</td>\n",
       "      <td>61.764875</td>\n",
       "      <td>101.70</td>\n",
       "      <td>26.552468</td>\n",
       "      <td>0.574625</td>\n",
       "      <td>0.28</td>\n",
       "      <td>60.6250</td>\n",
       "      <td>15.61</td>\n",
       "      <td>11.662125</td>\n",
       "      <td>23.97</td>\n",
       "      <td>15.0</td>\n",
       "    </tr>\n",
       "    <tr>\n",
       "      <th>...</th>\n",
       "      <td>...</td>\n",
       "      <td>...</td>\n",
       "      <td>...</td>\n",
       "      <td>...</td>\n",
       "      <td>...</td>\n",
       "      <td>...</td>\n",
       "      <td>...</td>\n",
       "      <td>...</td>\n",
       "      <td>...</td>\n",
       "      <td>...</td>\n",
       "      <td>...</td>\n",
       "      <td>...</td>\n",
       "    </tr>\n",
       "    <tr>\n",
       "      <th>64508</th>\n",
       "      <td>2.0</td>\n",
       "      <td>2600.0</td>\n",
       "      <td>3.161125</td>\n",
       "      <td>21.94</td>\n",
       "      <td>7.603113</td>\n",
       "      <td>0.451625</td>\n",
       "      <td>2.16</td>\n",
       "      <td>49.4375</td>\n",
       "      <td>4.27</td>\n",
       "      <td>1.782500</td>\n",
       "      <td>16.54</td>\n",
       "      <td>21.0</td>\n",
       "    </tr>\n",
       "    <tr>\n",
       "      <th>64509</th>\n",
       "      <td>2.0</td>\n",
       "      <td>2600.0</td>\n",
       "      <td>16.543375</td>\n",
       "      <td>58.03</td>\n",
       "      <td>14.847116</td>\n",
       "      <td>0.948000</td>\n",
       "      <td>0.35</td>\n",
       "      <td>65.1375</td>\n",
       "      <td>17.32</td>\n",
       "      <td>1.242250</td>\n",
       "      <td>33.48</td>\n",
       "      <td>21.0</td>\n",
       "    </tr>\n",
       "    <tr>\n",
       "      <th>64510</th>\n",
       "      <td>2.0</td>\n",
       "      <td>2400.0</td>\n",
       "      <td>40.174625</td>\n",
       "      <td>61.44</td>\n",
       "      <td>17.816030</td>\n",
       "      <td>5.519375</td>\n",
       "      <td>0.27</td>\n",
       "      <td>75.9875</td>\n",
       "      <td>18.12</td>\n",
       "      <td>5.835375</td>\n",
       "      <td>24.40</td>\n",
       "      <td>21.0</td>\n",
       "    </tr>\n",
       "    <tr>\n",
       "      <th>64511</th>\n",
       "      <td>2.0</td>\n",
       "      <td>2400.0</td>\n",
       "      <td>27.050875</td>\n",
       "      <td>40.95</td>\n",
       "      <td>11.679789</td>\n",
       "      <td>1.507250</td>\n",
       "      <td>0.30</td>\n",
       "      <td>65.5375</td>\n",
       "      <td>20.83</td>\n",
       "      <td>5.153125</td>\n",
       "      <td>39.55</td>\n",
       "      <td>21.0</td>\n",
       "    </tr>\n",
       "    <tr>\n",
       "      <th>64512</th>\n",
       "      <td>2.0</td>\n",
       "      <td>2600.0</td>\n",
       "      <td>6.463250</td>\n",
       "      <td>36.83</td>\n",
       "      <td>11.283570</td>\n",
       "      <td>0.000000</td>\n",
       "      <td>0.40</td>\n",
       "      <td>62.0500</td>\n",
       "      <td>3.88</td>\n",
       "      <td>0.000000</td>\n",
       "      <td>7.32</td>\n",
       "      <td>21.0</td>\n",
       "    </tr>\n",
       "  </tbody>\n",
       "</table>\n",
       "<p>64513 rows × 12 columns</p>\n",
       "</div>"
      ],
      "text/plain": [
       "       dangerLevel  elevation_th     HN72_24  HN24_7d  Pen_depth       HN24  \\\n",
       "0              2.0        2000.0   54.171375   107.07  42.120689  31.513500   \n",
       "1              2.0        2300.0   69.655625   104.03  29.936934  36.570125   \n",
       "2              3.0        2000.0  102.098125   150.70  37.159607  54.272000   \n",
       "3              2.0        2300.0   80.960375   136.84  39.275160  43.528125   \n",
       "4              2.0        2300.0   61.764875   101.70  26.552468   0.574625   \n",
       "...            ...           ...         ...      ...        ...        ...   \n",
       "64508          2.0        2600.0    3.161125    21.94   7.603113   0.451625   \n",
       "64509          2.0        2600.0   16.543375    58.03  14.847116   0.948000   \n",
       "64510          2.0        2400.0   40.174625    61.44  17.816030   5.519375   \n",
       "64511          2.0        2400.0   27.050875    40.95  11.679789   1.507250   \n",
       "64512          2.0        2600.0    6.463250    36.83  11.283570   0.000000   \n",
       "\n",
       "       min_ccl_pen       RH  wind_trans24_3d  wind_trans24  wind_trans24_7d  \\\n",
       "0             0.18  94.3750             6.60      4.150375            29.01   \n",
       "1             0.21  88.7500             5.05      1.358000            15.72   \n",
       "2             0.24  93.3750           112.12    105.515000           132.03   \n",
       "3             0.20  81.8750             0.00      0.000000             4.90   \n",
       "4             0.28  60.6250            15.61     11.662125            23.97   \n",
       "...            ...      ...              ...           ...              ...   \n",
       "64508         2.16  49.4375             4.27      1.782500            16.54   \n",
       "64509         0.35  65.1375            17.32      1.242250            33.48   \n",
       "64510         0.27  75.9875            18.12      5.835375            24.40   \n",
       "64511         0.30  65.5375            20.83      5.153125            39.55   \n",
       "64512         0.40  62.0500             3.88      0.000000             7.32   \n",
       "\n",
       "       warnreg  \n",
       "0         15.0  \n",
       "1         15.0  \n",
       "2         15.0  \n",
       "3         15.0  \n",
       "4         15.0  \n",
       "...        ...  \n",
       "64508     21.0  \n",
       "64509     21.0  \n",
       "64510     21.0  \n",
       "64511     21.0  \n",
       "64512     21.0  \n",
       "\n",
       "[64513 rows x 12 columns]"
      ]
     },
     "execution_count": 19,
     "metadata": {},
     "output_type": "execute_result"
    }
   ],
   "source": [
    "#delete column unnamed\n",
    "df3 = df.drop(\"Unnamed: 0\", axis=\"columns\")\n",
    "df3"
   ]
  },
  {
   "cell_type": "code",
   "execution_count": 20,
   "id": "7e22d626-fda9-48cd-9e7a-036e808fa576",
   "metadata": {},
   "outputs": [],
   "source": [
    "#define independent features i.e. x \n",
    "#define dependent features i.e. y\n",
    "\n",
    "y = df3[\"dangerLevel\"]\n",
    "X = df3.drop(\"dangerLevel\", axis=1)"
   ]
  },
  {
   "cell_type": "code",
   "execution_count": 21,
   "id": "041eaa86-f7f2-4a1a-a886-bf35d104adba",
   "metadata": {},
   "outputs": [],
   "source": [
    "#split dataframe into random samples for training and testing\n",
    "X_train, X_test, y_train, y_test = train_test_split(X, y, test_size = 0.3, random_state=1)"
   ]
  },
  {
   "cell_type": "code",
   "execution_count": 22,
   "id": "8ad63aa4-2ccb-4970-ad03-f17ebb37874d",
   "metadata": {},
   "outputs": [],
   "source": [
    "#create decision tree classifier and try with max depth 2 (later we will optimize)\n",
    "tree = DecisionTreeClassifier(criterion=\"entropy\", max_depth = 2)\n"
   ]
  },
  {
   "cell_type": "code",
   "execution_count": 23,
   "id": "62c921ee-4684-409c-87b7-dfb03df9ab20",
   "metadata": {},
   "outputs": [
    {
     "data": {
      "text/html": [
       "<style>#sk-container-id-1 {color: black;background-color: white;}#sk-container-id-1 pre{padding: 0;}#sk-container-id-1 div.sk-toggleable {background-color: white;}#sk-container-id-1 label.sk-toggleable__label {cursor: pointer;display: block;width: 100%;margin-bottom: 0;padding: 0.3em;box-sizing: border-box;text-align: center;}#sk-container-id-1 label.sk-toggleable__label-arrow:before {content: \"▸\";float: left;margin-right: 0.25em;color: #696969;}#sk-container-id-1 label.sk-toggleable__label-arrow:hover:before {color: black;}#sk-container-id-1 div.sk-estimator:hover label.sk-toggleable__label-arrow:before {color: black;}#sk-container-id-1 div.sk-toggleable__content {max-height: 0;max-width: 0;overflow: hidden;text-align: left;background-color: #f0f8ff;}#sk-container-id-1 div.sk-toggleable__content pre {margin: 0.2em;color: black;border-radius: 0.25em;background-color: #f0f8ff;}#sk-container-id-1 input.sk-toggleable__control:checked~div.sk-toggleable__content {max-height: 200px;max-width: 100%;overflow: auto;}#sk-container-id-1 input.sk-toggleable__control:checked~label.sk-toggleable__label-arrow:before {content: \"▾\";}#sk-container-id-1 div.sk-estimator input.sk-toggleable__control:checked~label.sk-toggleable__label {background-color: #d4ebff;}#sk-container-id-1 div.sk-label input.sk-toggleable__control:checked~label.sk-toggleable__label {background-color: #d4ebff;}#sk-container-id-1 input.sk-hidden--visually {border: 0;clip: rect(1px 1px 1px 1px);clip: rect(1px, 1px, 1px, 1px);height: 1px;margin: -1px;overflow: hidden;padding: 0;position: absolute;width: 1px;}#sk-container-id-1 div.sk-estimator {font-family: monospace;background-color: #f0f8ff;border: 1px dotted black;border-radius: 0.25em;box-sizing: border-box;margin-bottom: 0.5em;}#sk-container-id-1 div.sk-estimator:hover {background-color: #d4ebff;}#sk-container-id-1 div.sk-parallel-item::after {content: \"\";width: 100%;border-bottom: 1px solid gray;flex-grow: 1;}#sk-container-id-1 div.sk-label:hover label.sk-toggleable__label {background-color: #d4ebff;}#sk-container-id-1 div.sk-serial::before {content: \"\";position: absolute;border-left: 1px solid gray;box-sizing: border-box;top: 0;bottom: 0;left: 50%;z-index: 0;}#sk-container-id-1 div.sk-serial {display: flex;flex-direction: column;align-items: center;background-color: white;padding-right: 0.2em;padding-left: 0.2em;position: relative;}#sk-container-id-1 div.sk-item {position: relative;z-index: 1;}#sk-container-id-1 div.sk-parallel {display: flex;align-items: stretch;justify-content: center;background-color: white;position: relative;}#sk-container-id-1 div.sk-item::before, #sk-container-id-1 div.sk-parallel-item::before {content: \"\";position: absolute;border-left: 1px solid gray;box-sizing: border-box;top: 0;bottom: 0;left: 50%;z-index: -1;}#sk-container-id-1 div.sk-parallel-item {display: flex;flex-direction: column;z-index: 1;position: relative;background-color: white;}#sk-container-id-1 div.sk-parallel-item:first-child::after {align-self: flex-end;width: 50%;}#sk-container-id-1 div.sk-parallel-item:last-child::after {align-self: flex-start;width: 50%;}#sk-container-id-1 div.sk-parallel-item:only-child::after {width: 0;}#sk-container-id-1 div.sk-dashed-wrapped {border: 1px dashed gray;margin: 0 0.4em 0.5em 0.4em;box-sizing: border-box;padding-bottom: 0.4em;background-color: white;}#sk-container-id-1 div.sk-label label {font-family: monospace;font-weight: bold;display: inline-block;line-height: 1.2em;}#sk-container-id-1 div.sk-label-container {text-align: center;}#sk-container-id-1 div.sk-container {/* jupyter's `normalize.less` sets `[hidden] { display: none; }` but bootstrap.min.css set `[hidden] { display: none !important; }` so we also need the `!important` here to be able to override the default hidden behavior on the sphinx rendered scikit-learn.org. See: https://github.com/scikit-learn/scikit-learn/issues/21755 */display: inline-block !important;position: relative;}#sk-container-id-1 div.sk-text-repr-fallback {display: none;}</style><div id=\"sk-container-id-1\" class=\"sk-top-container\"><div class=\"sk-text-repr-fallback\"><pre>DecisionTreeClassifier(criterion=&#x27;entropy&#x27;, max_depth=2)</pre><b>In a Jupyter environment, please rerun this cell to show the HTML representation or trust the notebook. <br />On GitHub, the HTML representation is unable to render, please try loading this page with nbviewer.org.</b></div><div class=\"sk-container\" hidden><div class=\"sk-item\"><div class=\"sk-estimator sk-toggleable\"><input class=\"sk-toggleable__control sk-hidden--visually\" id=\"sk-estimator-id-1\" type=\"checkbox\" checked><label for=\"sk-estimator-id-1\" class=\"sk-toggleable__label sk-toggleable__label-arrow\">DecisionTreeClassifier</label><div class=\"sk-toggleable__content\"><pre>DecisionTreeClassifier(criterion=&#x27;entropy&#x27;, max_depth=2)</pre></div></div></div></div></div>"
      ],
      "text/plain": [
       "DecisionTreeClassifier(criterion='entropy', max_depth=2)"
      ]
     },
     "execution_count": 23,
     "metadata": {},
     "output_type": "execute_result"
    }
   ],
   "source": [
    "#fit model to training data\n",
    "tree.fit(X_train, y_train)"
   ]
  },
  {
   "cell_type": "code",
   "execution_count": 24,
   "id": "099ccc21-6017-477f-8fe9-7a5d3dc818b7",
   "metadata": {},
   "outputs": [
    {
     "data": {
      "text/plain": [
       "array([1., 2., 3., ..., 2., 2., 2.])"
      ]
     },
     "execution_count": 24,
     "metadata": {},
     "output_type": "execute_result"
    }
   ],
   "source": [
    "y_preds_class = tree.predict(X_test)\n",
    "y_preds_class"
   ]
  },
  {
   "cell_type": "code",
   "execution_count": 25,
   "id": "4c0e2e38-0134-4eaa-8390-50906beb2733",
   "metadata": {},
   "outputs": [
    {
     "name": "stdout",
     "output_type": "stream",
     "text": [
      "              precision    recall  f1-score   support\n",
      "\n",
      "         1.0       0.99      0.81      0.89      1879\n",
      "         2.0       0.67      0.85      0.75      9488\n",
      "         3.0       0.71      0.54      0.61      7690\n",
      "         4.0       0.46      0.07      0.13       290\n",
      "         5.0       0.00      0.00      0.00         7\n",
      "\n",
      "    accuracy                           0.71     19354\n",
      "   macro avg       0.57      0.45      0.48     19354\n",
      "weighted avg       0.72      0.71      0.70     19354\n",
      "\n"
     ]
    },
    {
     "name": "stderr",
     "output_type": "stream",
     "text": [
      "/Users/florencebloch/opt/anaconda3/lib/python3.9/site-packages/sklearn/metrics/_classification.py:1334: UndefinedMetricWarning: Precision and F-score are ill-defined and being set to 0.0 in labels with no predicted samples. Use `zero_division` parameter to control this behavior.\n",
      "  _warn_prf(average, modifier, msg_start, len(result))\n",
      "/Users/florencebloch/opt/anaconda3/lib/python3.9/site-packages/sklearn/metrics/_classification.py:1334: UndefinedMetricWarning: Precision and F-score are ill-defined and being set to 0.0 in labels with no predicted samples. Use `zero_division` parameter to control this behavior.\n",
      "  _warn_prf(average, modifier, msg_start, len(result))\n",
      "/Users/florencebloch/opt/anaconda3/lib/python3.9/site-packages/sklearn/metrics/_classification.py:1334: UndefinedMetricWarning: Precision and F-score are ill-defined and being set to 0.0 in labels with no predicted samples. Use `zero_division` parameter to control this behavior.\n",
      "  _warn_prf(average, modifier, msg_start, len(result))\n"
     ]
    }
   ],
   "source": [
    "print(classification_report(y_test, y_preds_class))"
   ]
  },
  {
   "cell_type": "code",
   "execution_count": null,
   "id": "e0acf200-a477-4a86-a2c9-6b2a2355bb73",
   "metadata": {},
   "outputs": [],
   "source": [
    "#not good bc accuracy of 1 basically impossible and no values for group 5 -> group danger levels 4&5 to reduce imbalance"
   ]
  },
  {
   "cell_type": "code",
   "execution_count": 26,
   "id": "48aa9684-88f7-4ad7-8122-79cad27aec60",
   "metadata": {},
   "outputs": [],
   "source": [
    "#group the danger levels 4 & 5 to 1 group to reduce class imbalance\n",
    "def danger (row):\n",
    "   if row['dangerLevel'] == 1 :\n",
    "      return '1'\n",
    "   if row['dangerLevel'] == 2 :\n",
    "      return '2'\n",
    "   if row['dangerLevel'] == 3 :\n",
    "      return '3'\n",
    "   if row['dangerLevel'] == 4:\n",
    "      return '4'\n",
    "   if row['dangerLevel'] == 5:\n",
    "      return '4'"
   ]
  },
  {
   "cell_type": "code",
   "execution_count": 27,
   "id": "f25717a3-1289-44ae-8001-991f7d4068fd",
   "metadata": {},
   "outputs": [],
   "source": [
    "df3 = df3.astype(float)"
   ]
  },
  {
   "cell_type": "code",
   "execution_count": 28,
   "id": "d75eb08f-7377-481d-b117-a657a1badfeb",
   "metadata": {},
   "outputs": [
    {
     "data": {
      "text/plain": [
       "0        2\n",
       "1        2\n",
       "2        3\n",
       "3        2\n",
       "4        2\n",
       "        ..\n",
       "64508    2\n",
       "64509    2\n",
       "64510    2\n",
       "64511    2\n",
       "64512    2\n",
       "Length: 64513, dtype: object"
      ]
     },
     "execution_count": 28,
     "metadata": {},
     "output_type": "execute_result"
    }
   ],
   "source": [
    "df3.apply (lambda row: danger(row), axis=1)"
   ]
  },
  {
   "cell_type": "code",
   "execution_count": 29,
   "id": "f80e29b3-412f-44bd-913d-6ccf563fac3b",
   "metadata": {},
   "outputs": [],
   "source": [
    "df3['dangerclasses'] = df3.apply (lambda row: danger(row), axis=1)"
   ]
  },
  {
   "cell_type": "code",
   "execution_count": 30,
   "id": "47203b61-2aad-4e17-b2b6-9abdd5c03bd6",
   "metadata": {},
   "outputs": [
    {
     "data": {
      "text/html": [
       "<div>\n",
       "<style scoped>\n",
       "    .dataframe tbody tr th:only-of-type {\n",
       "        vertical-align: middle;\n",
       "    }\n",
       "\n",
       "    .dataframe tbody tr th {\n",
       "        vertical-align: top;\n",
       "    }\n",
       "\n",
       "    .dataframe thead th {\n",
       "        text-align: right;\n",
       "    }\n",
       "</style>\n",
       "<table border=\"1\" class=\"dataframe\">\n",
       "  <thead>\n",
       "    <tr style=\"text-align: right;\">\n",
       "      <th></th>\n",
       "      <th>dangerLevel</th>\n",
       "      <th>elevation_th</th>\n",
       "      <th>HN72_24</th>\n",
       "      <th>HN24_7d</th>\n",
       "      <th>Pen_depth</th>\n",
       "      <th>HN24</th>\n",
       "      <th>min_ccl_pen</th>\n",
       "      <th>RH</th>\n",
       "      <th>wind_trans24_3d</th>\n",
       "      <th>wind_trans24</th>\n",
       "      <th>wind_trans24_7d</th>\n",
       "      <th>warnreg</th>\n",
       "      <th>dangerclasses</th>\n",
       "    </tr>\n",
       "  </thead>\n",
       "  <tbody>\n",
       "    <tr>\n",
       "      <th>0</th>\n",
       "      <td>2.0</td>\n",
       "      <td>2000.0</td>\n",
       "      <td>54.171375</td>\n",
       "      <td>107.07</td>\n",
       "      <td>42.120689</td>\n",
       "      <td>31.513500</td>\n",
       "      <td>0.18</td>\n",
       "      <td>94.3750</td>\n",
       "      <td>6.60</td>\n",
       "      <td>4.150375</td>\n",
       "      <td>29.01</td>\n",
       "      <td>15.0</td>\n",
       "      <td>2</td>\n",
       "    </tr>\n",
       "    <tr>\n",
       "      <th>1</th>\n",
       "      <td>2.0</td>\n",
       "      <td>2300.0</td>\n",
       "      <td>69.655625</td>\n",
       "      <td>104.03</td>\n",
       "      <td>29.936934</td>\n",
       "      <td>36.570125</td>\n",
       "      <td>0.21</td>\n",
       "      <td>88.7500</td>\n",
       "      <td>5.05</td>\n",
       "      <td>1.358000</td>\n",
       "      <td>15.72</td>\n",
       "      <td>15.0</td>\n",
       "      <td>2</td>\n",
       "    </tr>\n",
       "    <tr>\n",
       "      <th>2</th>\n",
       "      <td>3.0</td>\n",
       "      <td>2000.0</td>\n",
       "      <td>102.098125</td>\n",
       "      <td>150.70</td>\n",
       "      <td>37.159607</td>\n",
       "      <td>54.272000</td>\n",
       "      <td>0.24</td>\n",
       "      <td>93.3750</td>\n",
       "      <td>112.12</td>\n",
       "      <td>105.515000</td>\n",
       "      <td>132.03</td>\n",
       "      <td>15.0</td>\n",
       "      <td>3</td>\n",
       "    </tr>\n",
       "    <tr>\n",
       "      <th>3</th>\n",
       "      <td>2.0</td>\n",
       "      <td>2300.0</td>\n",
       "      <td>80.960375</td>\n",
       "      <td>136.84</td>\n",
       "      <td>39.275160</td>\n",
       "      <td>43.528125</td>\n",
       "      <td>0.20</td>\n",
       "      <td>81.8750</td>\n",
       "      <td>0.00</td>\n",
       "      <td>0.000000</td>\n",
       "      <td>4.90</td>\n",
       "      <td>15.0</td>\n",
       "      <td>2</td>\n",
       "    </tr>\n",
       "    <tr>\n",
       "      <th>4</th>\n",
       "      <td>2.0</td>\n",
       "      <td>2300.0</td>\n",
       "      <td>61.764875</td>\n",
       "      <td>101.70</td>\n",
       "      <td>26.552468</td>\n",
       "      <td>0.574625</td>\n",
       "      <td>0.28</td>\n",
       "      <td>60.6250</td>\n",
       "      <td>15.61</td>\n",
       "      <td>11.662125</td>\n",
       "      <td>23.97</td>\n",
       "      <td>15.0</td>\n",
       "      <td>2</td>\n",
       "    </tr>\n",
       "    <tr>\n",
       "      <th>...</th>\n",
       "      <td>...</td>\n",
       "      <td>...</td>\n",
       "      <td>...</td>\n",
       "      <td>...</td>\n",
       "      <td>...</td>\n",
       "      <td>...</td>\n",
       "      <td>...</td>\n",
       "      <td>...</td>\n",
       "      <td>...</td>\n",
       "      <td>...</td>\n",
       "      <td>...</td>\n",
       "      <td>...</td>\n",
       "      <td>...</td>\n",
       "    </tr>\n",
       "    <tr>\n",
       "      <th>64508</th>\n",
       "      <td>2.0</td>\n",
       "      <td>2600.0</td>\n",
       "      <td>3.161125</td>\n",
       "      <td>21.94</td>\n",
       "      <td>7.603113</td>\n",
       "      <td>0.451625</td>\n",
       "      <td>2.16</td>\n",
       "      <td>49.4375</td>\n",
       "      <td>4.27</td>\n",
       "      <td>1.782500</td>\n",
       "      <td>16.54</td>\n",
       "      <td>21.0</td>\n",
       "      <td>2</td>\n",
       "    </tr>\n",
       "    <tr>\n",
       "      <th>64509</th>\n",
       "      <td>2.0</td>\n",
       "      <td>2600.0</td>\n",
       "      <td>16.543375</td>\n",
       "      <td>58.03</td>\n",
       "      <td>14.847116</td>\n",
       "      <td>0.948000</td>\n",
       "      <td>0.35</td>\n",
       "      <td>65.1375</td>\n",
       "      <td>17.32</td>\n",
       "      <td>1.242250</td>\n",
       "      <td>33.48</td>\n",
       "      <td>21.0</td>\n",
       "      <td>2</td>\n",
       "    </tr>\n",
       "    <tr>\n",
       "      <th>64510</th>\n",
       "      <td>2.0</td>\n",
       "      <td>2400.0</td>\n",
       "      <td>40.174625</td>\n",
       "      <td>61.44</td>\n",
       "      <td>17.816030</td>\n",
       "      <td>5.519375</td>\n",
       "      <td>0.27</td>\n",
       "      <td>75.9875</td>\n",
       "      <td>18.12</td>\n",
       "      <td>5.835375</td>\n",
       "      <td>24.40</td>\n",
       "      <td>21.0</td>\n",
       "      <td>2</td>\n",
       "    </tr>\n",
       "    <tr>\n",
       "      <th>64511</th>\n",
       "      <td>2.0</td>\n",
       "      <td>2400.0</td>\n",
       "      <td>27.050875</td>\n",
       "      <td>40.95</td>\n",
       "      <td>11.679789</td>\n",
       "      <td>1.507250</td>\n",
       "      <td>0.30</td>\n",
       "      <td>65.5375</td>\n",
       "      <td>20.83</td>\n",
       "      <td>5.153125</td>\n",
       "      <td>39.55</td>\n",
       "      <td>21.0</td>\n",
       "      <td>2</td>\n",
       "    </tr>\n",
       "    <tr>\n",
       "      <th>64512</th>\n",
       "      <td>2.0</td>\n",
       "      <td>2600.0</td>\n",
       "      <td>6.463250</td>\n",
       "      <td>36.83</td>\n",
       "      <td>11.283570</td>\n",
       "      <td>0.000000</td>\n",
       "      <td>0.40</td>\n",
       "      <td>62.0500</td>\n",
       "      <td>3.88</td>\n",
       "      <td>0.000000</td>\n",
       "      <td>7.32</td>\n",
       "      <td>21.0</td>\n",
       "      <td>2</td>\n",
       "    </tr>\n",
       "  </tbody>\n",
       "</table>\n",
       "<p>64513 rows × 13 columns</p>\n",
       "</div>"
      ],
      "text/plain": [
       "       dangerLevel  elevation_th     HN72_24  HN24_7d  Pen_depth       HN24  \\\n",
       "0              2.0        2000.0   54.171375   107.07  42.120689  31.513500   \n",
       "1              2.0        2300.0   69.655625   104.03  29.936934  36.570125   \n",
       "2              3.0        2000.0  102.098125   150.70  37.159607  54.272000   \n",
       "3              2.0        2300.0   80.960375   136.84  39.275160  43.528125   \n",
       "4              2.0        2300.0   61.764875   101.70  26.552468   0.574625   \n",
       "...            ...           ...         ...      ...        ...        ...   \n",
       "64508          2.0        2600.0    3.161125    21.94   7.603113   0.451625   \n",
       "64509          2.0        2600.0   16.543375    58.03  14.847116   0.948000   \n",
       "64510          2.0        2400.0   40.174625    61.44  17.816030   5.519375   \n",
       "64511          2.0        2400.0   27.050875    40.95  11.679789   1.507250   \n",
       "64512          2.0        2600.0    6.463250    36.83  11.283570   0.000000   \n",
       "\n",
       "       min_ccl_pen       RH  wind_trans24_3d  wind_trans24  wind_trans24_7d  \\\n",
       "0             0.18  94.3750             6.60      4.150375            29.01   \n",
       "1             0.21  88.7500             5.05      1.358000            15.72   \n",
       "2             0.24  93.3750           112.12    105.515000           132.03   \n",
       "3             0.20  81.8750             0.00      0.000000             4.90   \n",
       "4             0.28  60.6250            15.61     11.662125            23.97   \n",
       "...            ...      ...              ...           ...              ...   \n",
       "64508         2.16  49.4375             4.27      1.782500            16.54   \n",
       "64509         0.35  65.1375            17.32      1.242250            33.48   \n",
       "64510         0.27  75.9875            18.12      5.835375            24.40   \n",
       "64511         0.30  65.5375            20.83      5.153125            39.55   \n",
       "64512         0.40  62.0500             3.88      0.000000             7.32   \n",
       "\n",
       "       warnreg dangerclasses  \n",
       "0         15.0             2  \n",
       "1         15.0             2  \n",
       "2         15.0             3  \n",
       "3         15.0             2  \n",
       "4         15.0             2  \n",
       "...        ...           ...  \n",
       "64508     21.0             2  \n",
       "64509     21.0             2  \n",
       "64510     21.0             2  \n",
       "64511     21.0             2  \n",
       "64512     21.0             2  \n",
       "\n",
       "[64513 rows x 13 columns]"
      ]
     },
     "execution_count": 30,
     "metadata": {},
     "output_type": "execute_result"
    }
   ],
   "source": [
    "df3"
   ]
  },
  {
   "cell_type": "code",
   "execution_count": 31,
   "id": "2aa662c1-6ccd-4c4c-89e0-210214b97525",
   "metadata": {},
   "outputs": [],
   "source": [
    "df3 = df3.astype(float)"
   ]
  },
  {
   "cell_type": "code",
   "execution_count": 32,
   "id": "2bc19074-98d5-4948-8f9d-9b8b21274508",
   "metadata": {},
   "outputs": [
    {
     "data": {
      "text/html": [
       "<div>\n",
       "<style scoped>\n",
       "    .dataframe tbody tr th:only-of-type {\n",
       "        vertical-align: middle;\n",
       "    }\n",
       "\n",
       "    .dataframe tbody tr th {\n",
       "        vertical-align: top;\n",
       "    }\n",
       "\n",
       "    .dataframe thead th {\n",
       "        text-align: right;\n",
       "    }\n",
       "</style>\n",
       "<table border=\"1\" class=\"dataframe\">\n",
       "  <thead>\n",
       "    <tr style=\"text-align: right;\">\n",
       "      <th></th>\n",
       "      <th>dangerLevel</th>\n",
       "      <th>elevation_th</th>\n",
       "      <th>HN72_24</th>\n",
       "      <th>HN24_7d</th>\n",
       "      <th>Pen_depth</th>\n",
       "      <th>HN24</th>\n",
       "      <th>min_ccl_pen</th>\n",
       "      <th>RH</th>\n",
       "      <th>wind_trans24_3d</th>\n",
       "      <th>wind_trans24</th>\n",
       "      <th>wind_trans24_7d</th>\n",
       "      <th>warnreg</th>\n",
       "      <th>dangerclasses</th>\n",
       "    </tr>\n",
       "  </thead>\n",
       "  <tbody>\n",
       "    <tr>\n",
       "      <th>0</th>\n",
       "      <td>2.0</td>\n",
       "      <td>2000.0</td>\n",
       "      <td>54.171375</td>\n",
       "      <td>107.07</td>\n",
       "      <td>42.120689</td>\n",
       "      <td>31.513500</td>\n",
       "      <td>0.18</td>\n",
       "      <td>94.3750</td>\n",
       "      <td>6.60</td>\n",
       "      <td>4.150375</td>\n",
       "      <td>29.01</td>\n",
       "      <td>15.0</td>\n",
       "      <td>2.0</td>\n",
       "    </tr>\n",
       "    <tr>\n",
       "      <th>1</th>\n",
       "      <td>2.0</td>\n",
       "      <td>2300.0</td>\n",
       "      <td>69.655625</td>\n",
       "      <td>104.03</td>\n",
       "      <td>29.936934</td>\n",
       "      <td>36.570125</td>\n",
       "      <td>0.21</td>\n",
       "      <td>88.7500</td>\n",
       "      <td>5.05</td>\n",
       "      <td>1.358000</td>\n",
       "      <td>15.72</td>\n",
       "      <td>15.0</td>\n",
       "      <td>2.0</td>\n",
       "    </tr>\n",
       "    <tr>\n",
       "      <th>2</th>\n",
       "      <td>3.0</td>\n",
       "      <td>2000.0</td>\n",
       "      <td>102.098125</td>\n",
       "      <td>150.70</td>\n",
       "      <td>37.159607</td>\n",
       "      <td>54.272000</td>\n",
       "      <td>0.24</td>\n",
       "      <td>93.3750</td>\n",
       "      <td>112.12</td>\n",
       "      <td>105.515000</td>\n",
       "      <td>132.03</td>\n",
       "      <td>15.0</td>\n",
       "      <td>3.0</td>\n",
       "    </tr>\n",
       "    <tr>\n",
       "      <th>3</th>\n",
       "      <td>2.0</td>\n",
       "      <td>2300.0</td>\n",
       "      <td>80.960375</td>\n",
       "      <td>136.84</td>\n",
       "      <td>39.275160</td>\n",
       "      <td>43.528125</td>\n",
       "      <td>0.20</td>\n",
       "      <td>81.8750</td>\n",
       "      <td>0.00</td>\n",
       "      <td>0.000000</td>\n",
       "      <td>4.90</td>\n",
       "      <td>15.0</td>\n",
       "      <td>2.0</td>\n",
       "    </tr>\n",
       "    <tr>\n",
       "      <th>4</th>\n",
       "      <td>2.0</td>\n",
       "      <td>2300.0</td>\n",
       "      <td>61.764875</td>\n",
       "      <td>101.70</td>\n",
       "      <td>26.552468</td>\n",
       "      <td>0.574625</td>\n",
       "      <td>0.28</td>\n",
       "      <td>60.6250</td>\n",
       "      <td>15.61</td>\n",
       "      <td>11.662125</td>\n",
       "      <td>23.97</td>\n",
       "      <td>15.0</td>\n",
       "      <td>2.0</td>\n",
       "    </tr>\n",
       "    <tr>\n",
       "      <th>...</th>\n",
       "      <td>...</td>\n",
       "      <td>...</td>\n",
       "      <td>...</td>\n",
       "      <td>...</td>\n",
       "      <td>...</td>\n",
       "      <td>...</td>\n",
       "      <td>...</td>\n",
       "      <td>...</td>\n",
       "      <td>...</td>\n",
       "      <td>...</td>\n",
       "      <td>...</td>\n",
       "      <td>...</td>\n",
       "      <td>...</td>\n",
       "    </tr>\n",
       "    <tr>\n",
       "      <th>64508</th>\n",
       "      <td>2.0</td>\n",
       "      <td>2600.0</td>\n",
       "      <td>3.161125</td>\n",
       "      <td>21.94</td>\n",
       "      <td>7.603113</td>\n",
       "      <td>0.451625</td>\n",
       "      <td>2.16</td>\n",
       "      <td>49.4375</td>\n",
       "      <td>4.27</td>\n",
       "      <td>1.782500</td>\n",
       "      <td>16.54</td>\n",
       "      <td>21.0</td>\n",
       "      <td>2.0</td>\n",
       "    </tr>\n",
       "    <tr>\n",
       "      <th>64509</th>\n",
       "      <td>2.0</td>\n",
       "      <td>2600.0</td>\n",
       "      <td>16.543375</td>\n",
       "      <td>58.03</td>\n",
       "      <td>14.847116</td>\n",
       "      <td>0.948000</td>\n",
       "      <td>0.35</td>\n",
       "      <td>65.1375</td>\n",
       "      <td>17.32</td>\n",
       "      <td>1.242250</td>\n",
       "      <td>33.48</td>\n",
       "      <td>21.0</td>\n",
       "      <td>2.0</td>\n",
       "    </tr>\n",
       "    <tr>\n",
       "      <th>64510</th>\n",
       "      <td>2.0</td>\n",
       "      <td>2400.0</td>\n",
       "      <td>40.174625</td>\n",
       "      <td>61.44</td>\n",
       "      <td>17.816030</td>\n",
       "      <td>5.519375</td>\n",
       "      <td>0.27</td>\n",
       "      <td>75.9875</td>\n",
       "      <td>18.12</td>\n",
       "      <td>5.835375</td>\n",
       "      <td>24.40</td>\n",
       "      <td>21.0</td>\n",
       "      <td>2.0</td>\n",
       "    </tr>\n",
       "    <tr>\n",
       "      <th>64511</th>\n",
       "      <td>2.0</td>\n",
       "      <td>2400.0</td>\n",
       "      <td>27.050875</td>\n",
       "      <td>40.95</td>\n",
       "      <td>11.679789</td>\n",
       "      <td>1.507250</td>\n",
       "      <td>0.30</td>\n",
       "      <td>65.5375</td>\n",
       "      <td>20.83</td>\n",
       "      <td>5.153125</td>\n",
       "      <td>39.55</td>\n",
       "      <td>21.0</td>\n",
       "      <td>2.0</td>\n",
       "    </tr>\n",
       "    <tr>\n",
       "      <th>64512</th>\n",
       "      <td>2.0</td>\n",
       "      <td>2600.0</td>\n",
       "      <td>6.463250</td>\n",
       "      <td>36.83</td>\n",
       "      <td>11.283570</td>\n",
       "      <td>0.000000</td>\n",
       "      <td>0.40</td>\n",
       "      <td>62.0500</td>\n",
       "      <td>3.88</td>\n",
       "      <td>0.000000</td>\n",
       "      <td>7.32</td>\n",
       "      <td>21.0</td>\n",
       "      <td>2.0</td>\n",
       "    </tr>\n",
       "  </tbody>\n",
       "</table>\n",
       "<p>64513 rows × 13 columns</p>\n",
       "</div>"
      ],
      "text/plain": [
       "       dangerLevel  elevation_th     HN72_24  HN24_7d  Pen_depth       HN24  \\\n",
       "0              2.0        2000.0   54.171375   107.07  42.120689  31.513500   \n",
       "1              2.0        2300.0   69.655625   104.03  29.936934  36.570125   \n",
       "2              3.0        2000.0  102.098125   150.70  37.159607  54.272000   \n",
       "3              2.0        2300.0   80.960375   136.84  39.275160  43.528125   \n",
       "4              2.0        2300.0   61.764875   101.70  26.552468   0.574625   \n",
       "...            ...           ...         ...      ...        ...        ...   \n",
       "64508          2.0        2600.0    3.161125    21.94   7.603113   0.451625   \n",
       "64509          2.0        2600.0   16.543375    58.03  14.847116   0.948000   \n",
       "64510          2.0        2400.0   40.174625    61.44  17.816030   5.519375   \n",
       "64511          2.0        2400.0   27.050875    40.95  11.679789   1.507250   \n",
       "64512          2.0        2600.0    6.463250    36.83  11.283570   0.000000   \n",
       "\n",
       "       min_ccl_pen       RH  wind_trans24_3d  wind_trans24  wind_trans24_7d  \\\n",
       "0             0.18  94.3750             6.60      4.150375            29.01   \n",
       "1             0.21  88.7500             5.05      1.358000            15.72   \n",
       "2             0.24  93.3750           112.12    105.515000           132.03   \n",
       "3             0.20  81.8750             0.00      0.000000             4.90   \n",
       "4             0.28  60.6250            15.61     11.662125            23.97   \n",
       "...            ...      ...              ...           ...              ...   \n",
       "64508         2.16  49.4375             4.27      1.782500            16.54   \n",
       "64509         0.35  65.1375            17.32      1.242250            33.48   \n",
       "64510         0.27  75.9875            18.12      5.835375            24.40   \n",
       "64511         0.30  65.5375            20.83      5.153125            39.55   \n",
       "64512         0.40  62.0500             3.88      0.000000             7.32   \n",
       "\n",
       "       warnreg  dangerclasses  \n",
       "0         15.0            2.0  \n",
       "1         15.0            2.0  \n",
       "2         15.0            3.0  \n",
       "3         15.0            2.0  \n",
       "4         15.0            2.0  \n",
       "...        ...            ...  \n",
       "64508     21.0            2.0  \n",
       "64509     21.0            2.0  \n",
       "64510     21.0            2.0  \n",
       "64511     21.0            2.0  \n",
       "64512     21.0            2.0  \n",
       "\n",
       "[64513 rows x 13 columns]"
      ]
     },
     "execution_count": 32,
     "metadata": {},
     "output_type": "execute_result"
    }
   ],
   "source": [
    "df3"
   ]
  },
  {
   "cell_type": "code",
   "execution_count": 70,
   "id": "63b3c87d-bb75-49ca-bcf0-a00feeccd0b3",
   "metadata": {},
   "outputs": [],
   "source": [
    "from sklearn.tree import DecisionTreeClassifier\n",
    "from sklearn.ensemble import RandomForestClassifier\n",
    "from sklearn.model_selection import train_test_split, GridSearchCV\n",
    "from sklearn.metrics import classification_report"
   ]
  },
  {
   "cell_type": "code",
   "execution_count": 52,
   "id": "f52aecb2-37ef-4136-bb20-d36d6dbc7fd2",
   "metadata": {},
   "outputs": [],
   "source": [
    "#drop dangerLevel as we replace it with dangerclasses\n",
    "df4 = df3.drop(\"dangerLevel\", axis=1)"
   ]
  },
  {
   "cell_type": "code",
   "execution_count": 53,
   "id": "42671ad4-47d8-49a2-83ab-5e8c4432a917",
   "metadata": {},
   "outputs": [],
   "source": [
    "#define independent features i.e. x \n",
    "#define dependent features i.e. y\n",
    "\n",
    "y1 = df4['dangerclasses']\n",
    "X1 = df4.drop('dangerclasses', axis=1)"
   ]
  },
  {
   "cell_type": "code",
   "execution_count": 54,
   "id": "97080862-0d37-4349-8334-a3d8cf4bbdff",
   "metadata": {},
   "outputs": [],
   "source": [
    "#perform a decision tree\n",
    "#split dataframe into random samples for training and testing, testing data = 30%\n",
    "X1_train, X1_test, y1_train, y1_test = train_test_split(X1, y1, test_size = 0.3, random_state=1)"
   ]
  },
  {
   "cell_type": "code",
   "execution_count": 55,
   "id": "602e9bdc-fab9-486e-9625-2c1013df8202",
   "metadata": {},
   "outputs": [],
   "source": [
    "#create decision tree classifier and try with max depth 2 (later we will optimize)\n",
    "tree = DecisionTreeClassifier(criterion=\"entropy\", max_depth = 2)"
   ]
  },
  {
   "cell_type": "code",
   "execution_count": 56,
   "id": "5b911759-b7af-49df-8d8e-dba16fb951e6",
   "metadata": {},
   "outputs": [
    {
     "data": {
      "text/html": [
       "<style>#sk-container-id-3 {color: black;background-color: white;}#sk-container-id-3 pre{padding: 0;}#sk-container-id-3 div.sk-toggleable {background-color: white;}#sk-container-id-3 label.sk-toggleable__label {cursor: pointer;display: block;width: 100%;margin-bottom: 0;padding: 0.3em;box-sizing: border-box;text-align: center;}#sk-container-id-3 label.sk-toggleable__label-arrow:before {content: \"▸\";float: left;margin-right: 0.25em;color: #696969;}#sk-container-id-3 label.sk-toggleable__label-arrow:hover:before {color: black;}#sk-container-id-3 div.sk-estimator:hover label.sk-toggleable__label-arrow:before {color: black;}#sk-container-id-3 div.sk-toggleable__content {max-height: 0;max-width: 0;overflow: hidden;text-align: left;background-color: #f0f8ff;}#sk-container-id-3 div.sk-toggleable__content pre {margin: 0.2em;color: black;border-radius: 0.25em;background-color: #f0f8ff;}#sk-container-id-3 input.sk-toggleable__control:checked~div.sk-toggleable__content {max-height: 200px;max-width: 100%;overflow: auto;}#sk-container-id-3 input.sk-toggleable__control:checked~label.sk-toggleable__label-arrow:before {content: \"▾\";}#sk-container-id-3 div.sk-estimator input.sk-toggleable__control:checked~label.sk-toggleable__label {background-color: #d4ebff;}#sk-container-id-3 div.sk-label input.sk-toggleable__control:checked~label.sk-toggleable__label {background-color: #d4ebff;}#sk-container-id-3 input.sk-hidden--visually {border: 0;clip: rect(1px 1px 1px 1px);clip: rect(1px, 1px, 1px, 1px);height: 1px;margin: -1px;overflow: hidden;padding: 0;position: absolute;width: 1px;}#sk-container-id-3 div.sk-estimator {font-family: monospace;background-color: #f0f8ff;border: 1px dotted black;border-radius: 0.25em;box-sizing: border-box;margin-bottom: 0.5em;}#sk-container-id-3 div.sk-estimator:hover {background-color: #d4ebff;}#sk-container-id-3 div.sk-parallel-item::after {content: \"\";width: 100%;border-bottom: 1px solid gray;flex-grow: 1;}#sk-container-id-3 div.sk-label:hover label.sk-toggleable__label {background-color: #d4ebff;}#sk-container-id-3 div.sk-serial::before {content: \"\";position: absolute;border-left: 1px solid gray;box-sizing: border-box;top: 0;bottom: 0;left: 50%;z-index: 0;}#sk-container-id-3 div.sk-serial {display: flex;flex-direction: column;align-items: center;background-color: white;padding-right: 0.2em;padding-left: 0.2em;position: relative;}#sk-container-id-3 div.sk-item {position: relative;z-index: 1;}#sk-container-id-3 div.sk-parallel {display: flex;align-items: stretch;justify-content: center;background-color: white;position: relative;}#sk-container-id-3 div.sk-item::before, #sk-container-id-3 div.sk-parallel-item::before {content: \"\";position: absolute;border-left: 1px solid gray;box-sizing: border-box;top: 0;bottom: 0;left: 50%;z-index: -1;}#sk-container-id-3 div.sk-parallel-item {display: flex;flex-direction: column;z-index: 1;position: relative;background-color: white;}#sk-container-id-3 div.sk-parallel-item:first-child::after {align-self: flex-end;width: 50%;}#sk-container-id-3 div.sk-parallel-item:last-child::after {align-self: flex-start;width: 50%;}#sk-container-id-3 div.sk-parallel-item:only-child::after {width: 0;}#sk-container-id-3 div.sk-dashed-wrapped {border: 1px dashed gray;margin: 0 0.4em 0.5em 0.4em;box-sizing: border-box;padding-bottom: 0.4em;background-color: white;}#sk-container-id-3 div.sk-label label {font-family: monospace;font-weight: bold;display: inline-block;line-height: 1.2em;}#sk-container-id-3 div.sk-label-container {text-align: center;}#sk-container-id-3 div.sk-container {/* jupyter's `normalize.less` sets `[hidden] { display: none; }` but bootstrap.min.css set `[hidden] { display: none !important; }` so we also need the `!important` here to be able to override the default hidden behavior on the sphinx rendered scikit-learn.org. See: https://github.com/scikit-learn/scikit-learn/issues/21755 */display: inline-block !important;position: relative;}#sk-container-id-3 div.sk-text-repr-fallback {display: none;}</style><div id=\"sk-container-id-3\" class=\"sk-top-container\"><div class=\"sk-text-repr-fallback\"><pre>DecisionTreeClassifier(criterion=&#x27;entropy&#x27;, max_depth=2)</pre><b>In a Jupyter environment, please rerun this cell to show the HTML representation or trust the notebook. <br />On GitHub, the HTML representation is unable to render, please try loading this page with nbviewer.org.</b></div><div class=\"sk-container\" hidden><div class=\"sk-item\"><div class=\"sk-estimator sk-toggleable\"><input class=\"sk-toggleable__control sk-hidden--visually\" id=\"sk-estimator-id-3\" type=\"checkbox\" checked><label for=\"sk-estimator-id-3\" class=\"sk-toggleable__label sk-toggleable__label-arrow\">DecisionTreeClassifier</label><div class=\"sk-toggleable__content\"><pre>DecisionTreeClassifier(criterion=&#x27;entropy&#x27;, max_depth=2)</pre></div></div></div></div></div>"
      ],
      "text/plain": [
       "DecisionTreeClassifier(criterion='entropy', max_depth=2)"
      ]
     },
     "execution_count": 56,
     "metadata": {},
     "output_type": "execute_result"
    }
   ],
   "source": [
    "#fit model to training data\n",
    "tree.fit(X1_train, y1_train)"
   ]
  },
  {
   "cell_type": "code",
   "execution_count": 57,
   "id": "b9203397-5895-46e1-bfb7-ad555994a830",
   "metadata": {},
   "outputs": [
    {
     "data": {
      "text/plain": [
       "array([1., 2., 3., ..., 2., 2., 2.])"
      ]
     },
     "execution_count": 57,
     "metadata": {},
     "output_type": "execute_result"
    }
   ],
   "source": [
    "y1_preds_class = tree.predict(X1_test)\n",
    "y1_preds_class"
   ]
  },
  {
   "cell_type": "code",
   "execution_count": 58,
   "id": "1dc33516-775e-4d67-a073-7e16da600048",
   "metadata": {},
   "outputs": [
    {
     "name": "stdout",
     "output_type": "stream",
     "text": [
      "              precision    recall  f1-score   support\n",
      "\n",
      "         1.0       0.99      0.81      0.89      1879\n",
      "         2.0       0.67      0.85      0.75      9488\n",
      "         3.0       0.71      0.54      0.61      7690\n",
      "         4.0       0.52      0.08      0.14       297\n",
      "\n",
      "    accuracy                           0.71     19354\n",
      "   macro avg       0.72      0.57      0.60     19354\n",
      "weighted avg       0.72      0.71      0.70     19354\n",
      "\n"
     ]
    }
   ],
   "source": [
    "#print classification report to see how well our model performed\n",
    "print(classification_report(y1_test, y1_preds_class))"
   ]
  },
  {
   "cell_type": "code",
   "execution_count": 59,
   "id": "73913c36-d466-4e88-bd18-465333d78e1f",
   "metadata": {},
   "outputs": [
    {
     "data": {
      "image/png": "[encoded data removed]",
      "text/plain": [
       "<Figure size 432x288 with 2 Axes>"
      ]
     },
     "metadata": {
      "needs_background": "light"
     },
     "output_type": "display_data"
    }
   ],
   "source": [
    "#create confusion matrix for our decision tree\n",
    "import numpy as np\n",
    "import matplotlib.pyplot as plt\n",
    "import seaborn as sns\n",
    "from sklearn.metrics import confusion_matrix\n",
    "\n",
    "ax= plt.subplot()\n",
    "cm = confusion_matrix(y1_test, y1_preds_class) \n",
    "sns.heatmap(cm, cmap=\"Reds\", annot=True, fmt= \"d\", ax = ax); #fmt=d so we see whole numbers not e^something\n",
    "\n",
    "#define ticks, labels and title for heatmap\n",
    "class_labels = [\"1\",\"2\",\"3\",\"4\"]\n",
    "tick_marks = np.arange(len(class_labels))+0.5 #+0.5 for position of the labels\n",
    "ax.set_xticks(tick_marks)\n",
    "ax.set_xticklabels(class_labels,rotation=0) #rotation = 0 -> labels are horizontal not rotated\n",
    "ax.set_yticks(tick_marks)\n",
    "ax.set_yticklabels(class_labels,rotation=0)\n",
    "\n",
    "ax.set_xlabel('Predicted values');\n",
    "ax.set_ylabel('True values');\n",
    "ax.set_title('Confusion Matrix Decision Tree');"
   ]
  },
  {
   "cell_type": "code",
   "execution_count": 60,
   "id": "387bdf78-01e2-4bad-aa48-7d024394d5ec",
   "metadata": {},
   "outputs": [],
   "source": [
    "#do another decision tree but optimize it using cross validation \n",
    "#figure out ideal max depth and samples leaf \n",
    "X2 = df4.drop('dangerclasses',axis=1)\n",
    "y2 = df4['dangerclasses']"
   ]
  },
  {
   "cell_type": "code",
   "execution_count": 61,
   "id": "b39923c9-6fbf-44d7-aa56-63e297485287",
   "metadata": {},
   "outputs": [],
   "source": [
    "#split dataframe into random samples for training and testing, testing data = 30%\n",
    "X2_train, X2_test, y2_train, y2_test = train_test_split(X2, y2, test_size=0.3, random_state=1)"
   ]
  },
  {
   "cell_type": "code",
   "execution_count": 62,
   "id": "3cd69ef9-dc43-4a8f-9793-4bc181e895a1",
   "metadata": {},
   "outputs": [
    {
     "data": {
      "text/plain": [
       "{'max_depth': range(1, 30), 'min_samples_leaf': [1, 10, 20, 30, 50, 10]}"
      ]
     },
     "execution_count": 62,
     "metadata": {},
     "output_type": "execute_result"
    }
   ],
   "source": [
    "#define parameters as dictionaries\n",
    "parameters = {\"max_depth\":range(1,30),\n",
    "              \"min_samples_leaf\":[1, 10, 20, 30, 50,10]}\n",
    "parameters\n"
   ]
  },
  {
   "cell_type": "code",
   "execution_count": 63,
   "id": "4a7d54b9-02fe-48c1-a3ce-9a879af5ec6d",
   "metadata": {},
   "outputs": [],
   "source": [
    "tree_CV = GridSearchCV(DecisionTreeClassifier(criterion=\"entropy\", random_state = 1), parameters, cv= 5)\n",
    "#cv = 5 -> 5 fold cross validation\n",
    "#parameters: above dictionary\n",
    "#entropy: measure quality of splite: shannon information gain\n"
   ]
  },
  {
   "cell_type": "code",
   "execution_count": 64,
   "id": "db0c2df4-0715-4b8c-b587-9466b6ade856",
   "metadata": {},
   "outputs": [
    {
     "ename": "KeyboardInterrupt",
     "evalue": "",
     "output_type": "error",
     "traceback": [
      "\u001b[0;31m---------------------------------------------------------------------------\u001b[0m",
      "\u001b[0;31mKeyboardInterrupt\u001b[0m                         Traceback (most recent call last)",
      "Input \u001b[0;32mIn [64]\u001b[0m, in \u001b[0;36m<cell line: 2>\u001b[0;34m()\u001b[0m\n\u001b[1;32m      1\u001b[0m \u001b[38;5;66;03m#fit model to training data\u001b[39;00m\n\u001b[0;32m----> 2\u001b[0m \u001b[43mtree_CV\u001b[49m\u001b[38;5;241;43m.\u001b[39;49m\u001b[43mfit\u001b[49m\u001b[43m(\u001b[49m\u001b[43mX2_train\u001b[49m\u001b[43m,\u001b[49m\u001b[43m \u001b[49m\u001b[43my2_train\u001b[49m\u001b[43m)\u001b[49m\n",
      "File \u001b[0;32m~/opt/anaconda3/lib/python3.9/site-packages/sklearn/model_selection/_search.py:875\u001b[0m, in \u001b[0;36mBaseSearchCV.fit\u001b[0;34m(self, X, y, groups, **fit_params)\u001b[0m\n\u001b[1;32m    869\u001b[0m     results \u001b[38;5;241m=\u001b[39m \u001b[38;5;28mself\u001b[39m\u001b[38;5;241m.\u001b[39m_format_results(\n\u001b[1;32m    870\u001b[0m         all_candidate_params, n_splits, all_out, all_more_results\n\u001b[1;32m    871\u001b[0m     )\n\u001b[1;32m    873\u001b[0m     \u001b[38;5;28;01mreturn\u001b[39;00m results\n\u001b[0;32m--> 875\u001b[0m \u001b[38;5;28;43mself\u001b[39;49m\u001b[38;5;241;43m.\u001b[39;49m\u001b[43m_run_search\u001b[49m\u001b[43m(\u001b[49m\u001b[43mevaluate_candidates\u001b[49m\u001b[43m)\u001b[49m\n\u001b[1;32m    877\u001b[0m \u001b[38;5;66;03m# multimetric is determined here because in the case of a callable\u001b[39;00m\n\u001b[1;32m    878\u001b[0m \u001b[38;5;66;03m# self.scoring the return type is only known after calling\u001b[39;00m\n\u001b[1;32m    879\u001b[0m first_test_score \u001b[38;5;241m=\u001b[39m all_out[\u001b[38;5;241m0\u001b[39m][\u001b[38;5;124m\"\u001b[39m\u001b[38;5;124mtest_scores\u001b[39m\u001b[38;5;124m\"\u001b[39m]\n",
      "File \u001b[0;32m~/opt/anaconda3/lib/python3.9/site-packages/sklearn/model_selection/_search.py:1379\u001b[0m, in \u001b[0;36mGridSearchCV._run_search\u001b[0;34m(self, evaluate_candidates)\u001b[0m\n\u001b[1;32m   1377\u001b[0m \u001b[38;5;28;01mdef\u001b[39;00m \u001b[38;5;21m_run_search\u001b[39m(\u001b[38;5;28mself\u001b[39m, evaluate_candidates):\n\u001b[1;32m   1378\u001b[0m     \u001b[38;5;124;03m\"\"\"Search all candidates in param_grid\"\"\"\u001b[39;00m\n\u001b[0;32m-> 1379\u001b[0m     \u001b[43mevaluate_candidates\u001b[49m\u001b[43m(\u001b[49m\u001b[43mParameterGrid\u001b[49m\u001b[43m(\u001b[49m\u001b[38;5;28;43mself\u001b[39;49m\u001b[38;5;241;43m.\u001b[39;49m\u001b[43mparam_grid\u001b[49m\u001b[43m)\u001b[49m\u001b[43m)\u001b[49m\n",
      "File \u001b[0;32m~/opt/anaconda3/lib/python3.9/site-packages/sklearn/model_selection/_search.py:822\u001b[0m, in \u001b[0;36mBaseSearchCV.fit.<locals>.evaluate_candidates\u001b[0;34m(candidate_params, cv, more_results)\u001b[0m\n\u001b[1;32m    814\u001b[0m \u001b[38;5;28;01mif\u001b[39;00m \u001b[38;5;28mself\u001b[39m\u001b[38;5;241m.\u001b[39mverbose \u001b[38;5;241m>\u001b[39m \u001b[38;5;241m0\u001b[39m:\n\u001b[1;32m    815\u001b[0m     \u001b[38;5;28mprint\u001b[39m(\n\u001b[1;32m    816\u001b[0m         \u001b[38;5;124m\"\u001b[39m\u001b[38;5;124mFitting \u001b[39m\u001b[38;5;132;01m{0}\u001b[39;00m\u001b[38;5;124m folds for each of \u001b[39m\u001b[38;5;132;01m{1}\u001b[39;00m\u001b[38;5;124m candidates,\u001b[39m\u001b[38;5;124m\"\u001b[39m\n\u001b[1;32m    817\u001b[0m         \u001b[38;5;124m\"\u001b[39m\u001b[38;5;124m totalling \u001b[39m\u001b[38;5;132;01m{2}\u001b[39;00m\u001b[38;5;124m fits\u001b[39m\u001b[38;5;124m\"\u001b[39m\u001b[38;5;241m.\u001b[39mformat(\n\u001b[1;32m    818\u001b[0m             n_splits, n_candidates, n_candidates \u001b[38;5;241m*\u001b[39m n_splits\n\u001b[1;32m    819\u001b[0m         )\n\u001b[1;32m    820\u001b[0m     )\n\u001b[0;32m--> 822\u001b[0m out \u001b[38;5;241m=\u001b[39m \u001b[43mparallel\u001b[49m\u001b[43m(\u001b[49m\n\u001b[1;32m    823\u001b[0m \u001b[43m    \u001b[49m\u001b[43mdelayed\u001b[49m\u001b[43m(\u001b[49m\u001b[43m_fit_and_score\u001b[49m\u001b[43m)\u001b[49m\u001b[43m(\u001b[49m\n\u001b[1;32m    824\u001b[0m \u001b[43m        \u001b[49m\u001b[43mclone\u001b[49m\u001b[43m(\u001b[49m\u001b[43mbase_estimator\u001b[49m\u001b[43m)\u001b[49m\u001b[43m,\u001b[49m\n\u001b[1;32m    825\u001b[0m \u001b[43m        \u001b[49m\u001b[43mX\u001b[49m\u001b[43m,\u001b[49m\n\u001b[1;32m    826\u001b[0m \u001b[43m        \u001b[49m\u001b[43my\u001b[49m\u001b[43m,\u001b[49m\n\u001b[1;32m    827\u001b[0m \u001b[43m        \u001b[49m\u001b[43mtrain\u001b[49m\u001b[38;5;241;43m=\u001b[39;49m\u001b[43mtrain\u001b[49m\u001b[43m,\u001b[49m\n\u001b[1;32m    828\u001b[0m \u001b[43m        \u001b[49m\u001b[43mtest\u001b[49m\u001b[38;5;241;43m=\u001b[39;49m\u001b[43mtest\u001b[49m\u001b[43m,\u001b[49m\n\u001b[1;32m    829\u001b[0m \u001b[43m        \u001b[49m\u001b[43mparameters\u001b[49m\u001b[38;5;241;43m=\u001b[39;49m\u001b[43mparameters\u001b[49m\u001b[43m,\u001b[49m\n\u001b[1;32m    830\u001b[0m \u001b[43m        \u001b[49m\u001b[43msplit_progress\u001b[49m\u001b[38;5;241;43m=\u001b[39;49m\u001b[43m(\u001b[49m\u001b[43msplit_idx\u001b[49m\u001b[43m,\u001b[49m\u001b[43m \u001b[49m\u001b[43mn_splits\u001b[49m\u001b[43m)\u001b[49m\u001b[43m,\u001b[49m\n\u001b[1;32m    831\u001b[0m \u001b[43m        \u001b[49m\u001b[43mcandidate_progress\u001b[49m\u001b[38;5;241;43m=\u001b[39;49m\u001b[43m(\u001b[49m\u001b[43mcand_idx\u001b[49m\u001b[43m,\u001b[49m\u001b[43m \u001b[49m\u001b[43mn_candidates\u001b[49m\u001b[43m)\u001b[49m\u001b[43m,\u001b[49m\n\u001b[1;32m    832\u001b[0m \u001b[43m        \u001b[49m\u001b[38;5;241;43m*\u001b[39;49m\u001b[38;5;241;43m*\u001b[39;49m\u001b[43mfit_and_score_kwargs\u001b[49m\u001b[43m,\u001b[49m\n\u001b[1;32m    833\u001b[0m \u001b[43m    \u001b[49m\u001b[43m)\u001b[49m\n\u001b[1;32m    834\u001b[0m \u001b[43m    \u001b[49m\u001b[38;5;28;43;01mfor\u001b[39;49;00m\u001b[43m \u001b[49m\u001b[43m(\u001b[49m\u001b[43mcand_idx\u001b[49m\u001b[43m,\u001b[49m\u001b[43m \u001b[49m\u001b[43mparameters\u001b[49m\u001b[43m)\u001b[49m\u001b[43m,\u001b[49m\u001b[43m \u001b[49m\u001b[43m(\u001b[49m\u001b[43msplit_idx\u001b[49m\u001b[43m,\u001b[49m\u001b[43m \u001b[49m\u001b[43m(\u001b[49m\u001b[43mtrain\u001b[49m\u001b[43m,\u001b[49m\u001b[43m \u001b[49m\u001b[43mtest\u001b[49m\u001b[43m)\u001b[49m\u001b[43m)\u001b[49m\u001b[43m \u001b[49m\u001b[38;5;129;43;01min\u001b[39;49;00m\u001b[43m \u001b[49m\u001b[43mproduct\u001b[49m\u001b[43m(\u001b[49m\n\u001b[1;32m    835\u001b[0m \u001b[43m        \u001b[49m\u001b[38;5;28;43menumerate\u001b[39;49m\u001b[43m(\u001b[49m\u001b[43mcandidate_params\u001b[49m\u001b[43m)\u001b[49m\u001b[43m,\u001b[49m\u001b[43m \u001b[49m\u001b[38;5;28;43menumerate\u001b[39;49m\u001b[43m(\u001b[49m\u001b[43mcv\u001b[49m\u001b[38;5;241;43m.\u001b[39;49m\u001b[43msplit\u001b[49m\u001b[43m(\u001b[49m\u001b[43mX\u001b[49m\u001b[43m,\u001b[49m\u001b[43m \u001b[49m\u001b[43my\u001b[49m\u001b[43m,\u001b[49m\u001b[43m \u001b[49m\u001b[43mgroups\u001b[49m\u001b[43m)\u001b[49m\u001b[43m)\u001b[49m\n\u001b[1;32m    836\u001b[0m \u001b[43m    \u001b[49m\u001b[43m)\u001b[49m\n\u001b[1;32m    837\u001b[0m \u001b[43m\u001b[49m\u001b[43m)\u001b[49m\n\u001b[1;32m    839\u001b[0m \u001b[38;5;28;01mif\u001b[39;00m \u001b[38;5;28mlen\u001b[39m(out) \u001b[38;5;241m<\u001b[39m \u001b[38;5;241m1\u001b[39m:\n\u001b[1;32m    840\u001b[0m     \u001b[38;5;28;01mraise\u001b[39;00m \u001b[38;5;167;01mValueError\u001b[39;00m(\n\u001b[1;32m    841\u001b[0m         \u001b[38;5;124m\"\u001b[39m\u001b[38;5;124mNo fits were performed. \u001b[39m\u001b[38;5;124m\"\u001b[39m\n\u001b[1;32m    842\u001b[0m         \u001b[38;5;124m\"\u001b[39m\u001b[38;5;124mWas the CV iterator empty? \u001b[39m\u001b[38;5;124m\"\u001b[39m\n\u001b[1;32m    843\u001b[0m         \u001b[38;5;124m\"\u001b[39m\u001b[38;5;124mWere there no candidates?\u001b[39m\u001b[38;5;124m\"\u001b[39m\n\u001b[1;32m    844\u001b[0m     )\n",
      "File \u001b[0;32m~/opt/anaconda3/lib/python3.9/site-packages/joblib/parallel.py:1046\u001b[0m, in \u001b[0;36mParallel.__call__\u001b[0;34m(self, iterable)\u001b[0m\n\u001b[1;32m   1043\u001b[0m \u001b[38;5;28;01mif\u001b[39;00m \u001b[38;5;28mself\u001b[39m\u001b[38;5;241m.\u001b[39mdispatch_one_batch(iterator):\n\u001b[1;32m   1044\u001b[0m     \u001b[38;5;28mself\u001b[39m\u001b[38;5;241m.\u001b[39m_iterating \u001b[38;5;241m=\u001b[39m \u001b[38;5;28mself\u001b[39m\u001b[38;5;241m.\u001b[39m_original_iterator \u001b[38;5;129;01mis\u001b[39;00m \u001b[38;5;129;01mnot\u001b[39;00m \u001b[38;5;28;01mNone\u001b[39;00m\n\u001b[0;32m-> 1046\u001b[0m \u001b[38;5;28;01mwhile\u001b[39;00m \u001b[38;5;28;43mself\u001b[39;49m\u001b[38;5;241;43m.\u001b[39;49m\u001b[43mdispatch_one_batch\u001b[49m\u001b[43m(\u001b[49m\u001b[43miterator\u001b[49m\u001b[43m)\u001b[49m:\n\u001b[1;32m   1047\u001b[0m     \u001b[38;5;28;01mpass\u001b[39;00m\n\u001b[1;32m   1049\u001b[0m \u001b[38;5;28;01mif\u001b[39;00m pre_dispatch \u001b[38;5;241m==\u001b[39m \u001b[38;5;124m\"\u001b[39m\u001b[38;5;124mall\u001b[39m\u001b[38;5;124m\"\u001b[39m \u001b[38;5;129;01mor\u001b[39;00m n_jobs \u001b[38;5;241m==\u001b[39m \u001b[38;5;241m1\u001b[39m:\n\u001b[1;32m   1050\u001b[0m     \u001b[38;5;66;03m# The iterable was consumed all at once by the above for loop.\u001b[39;00m\n\u001b[1;32m   1051\u001b[0m     \u001b[38;5;66;03m# No need to wait for async callbacks to trigger to\u001b[39;00m\n\u001b[1;32m   1052\u001b[0m     \u001b[38;5;66;03m# consumption.\u001b[39;00m\n",
      "File \u001b[0;32m~/opt/anaconda3/lib/python3.9/site-packages/joblib/parallel.py:861\u001b[0m, in \u001b[0;36mParallel.dispatch_one_batch\u001b[0;34m(self, iterator)\u001b[0m\n\u001b[1;32m    859\u001b[0m     \u001b[38;5;28;01mreturn\u001b[39;00m \u001b[38;5;28;01mFalse\u001b[39;00m\n\u001b[1;32m    860\u001b[0m \u001b[38;5;28;01melse\u001b[39;00m:\n\u001b[0;32m--> 861\u001b[0m     \u001b[38;5;28;43mself\u001b[39;49m\u001b[38;5;241;43m.\u001b[39;49m\u001b[43m_dispatch\u001b[49m\u001b[43m(\u001b[49m\u001b[43mtasks\u001b[49m\u001b[43m)\u001b[49m\n\u001b[1;32m    862\u001b[0m     \u001b[38;5;28;01mreturn\u001b[39;00m \u001b[38;5;28;01mTrue\u001b[39;00m\n",
      "File \u001b[0;32m~/opt/anaconda3/lib/python3.9/site-packages/joblib/parallel.py:779\u001b[0m, in \u001b[0;36mParallel._dispatch\u001b[0;34m(self, batch)\u001b[0m\n\u001b[1;32m    777\u001b[0m \u001b[38;5;28;01mwith\u001b[39;00m \u001b[38;5;28mself\u001b[39m\u001b[38;5;241m.\u001b[39m_lock:\n\u001b[1;32m    778\u001b[0m     job_idx \u001b[38;5;241m=\u001b[39m \u001b[38;5;28mlen\u001b[39m(\u001b[38;5;28mself\u001b[39m\u001b[38;5;241m.\u001b[39m_jobs)\n\u001b[0;32m--> 779\u001b[0m     job \u001b[38;5;241m=\u001b[39m \u001b[38;5;28;43mself\u001b[39;49m\u001b[38;5;241;43m.\u001b[39;49m\u001b[43m_backend\u001b[49m\u001b[38;5;241;43m.\u001b[39;49m\u001b[43mapply_async\u001b[49m\u001b[43m(\u001b[49m\u001b[43mbatch\u001b[49m\u001b[43m,\u001b[49m\u001b[43m \u001b[49m\u001b[43mcallback\u001b[49m\u001b[38;5;241;43m=\u001b[39;49m\u001b[43mcb\u001b[49m\u001b[43m)\u001b[49m\n\u001b[1;32m    780\u001b[0m     \u001b[38;5;66;03m# A job can complete so quickly than its callback is\u001b[39;00m\n\u001b[1;32m    781\u001b[0m     \u001b[38;5;66;03m# called before we get here, causing self._jobs to\u001b[39;00m\n\u001b[1;32m    782\u001b[0m     \u001b[38;5;66;03m# grow. To ensure correct results ordering, .insert is\u001b[39;00m\n\u001b[1;32m    783\u001b[0m     \u001b[38;5;66;03m# used (rather than .append) in the following line\u001b[39;00m\n\u001b[1;32m    784\u001b[0m     \u001b[38;5;28mself\u001b[39m\u001b[38;5;241m.\u001b[39m_jobs\u001b[38;5;241m.\u001b[39minsert(job_idx, job)\n",
      "File \u001b[0;32m~/opt/anaconda3/lib/python3.9/site-packages/joblib/_parallel_backends.py:208\u001b[0m, in \u001b[0;36mSequentialBackend.apply_async\u001b[0;34m(self, func, callback)\u001b[0m\n\u001b[1;32m    206\u001b[0m \u001b[38;5;28;01mdef\u001b[39;00m \u001b[38;5;21mapply_async\u001b[39m(\u001b[38;5;28mself\u001b[39m, func, callback\u001b[38;5;241m=\u001b[39m\u001b[38;5;28;01mNone\u001b[39;00m):\n\u001b[1;32m    207\u001b[0m     \u001b[38;5;124;03m\"\"\"Schedule a func to be run\"\"\"\u001b[39;00m\n\u001b[0;32m--> 208\u001b[0m     result \u001b[38;5;241m=\u001b[39m \u001b[43mImmediateResult\u001b[49m\u001b[43m(\u001b[49m\u001b[43mfunc\u001b[49m\u001b[43m)\u001b[49m\n\u001b[1;32m    209\u001b[0m     \u001b[38;5;28;01mif\u001b[39;00m callback:\n\u001b[1;32m    210\u001b[0m         callback(result)\n",
      "File \u001b[0;32m~/opt/anaconda3/lib/python3.9/site-packages/joblib/_parallel_backends.py:572\u001b[0m, in \u001b[0;36mImmediateResult.__init__\u001b[0;34m(self, batch)\u001b[0m\n\u001b[1;32m    569\u001b[0m \u001b[38;5;28;01mdef\u001b[39;00m \u001b[38;5;21m__init__\u001b[39m(\u001b[38;5;28mself\u001b[39m, batch):\n\u001b[1;32m    570\u001b[0m     \u001b[38;5;66;03m# Don't delay the application, to avoid keeping the input\u001b[39;00m\n\u001b[1;32m    571\u001b[0m     \u001b[38;5;66;03m# arguments in memory\u001b[39;00m\n\u001b[0;32m--> 572\u001b[0m     \u001b[38;5;28mself\u001b[39m\u001b[38;5;241m.\u001b[39mresults \u001b[38;5;241m=\u001b[39m \u001b[43mbatch\u001b[49m\u001b[43m(\u001b[49m\u001b[43m)\u001b[49m\n",
      "File \u001b[0;32m~/opt/anaconda3/lib/python3.9/site-packages/joblib/parallel.py:262\u001b[0m, in \u001b[0;36mBatchedCalls.__call__\u001b[0;34m(self)\u001b[0m\n\u001b[1;32m    258\u001b[0m \u001b[38;5;28;01mdef\u001b[39;00m \u001b[38;5;21m__call__\u001b[39m(\u001b[38;5;28mself\u001b[39m):\n\u001b[1;32m    259\u001b[0m     \u001b[38;5;66;03m# Set the default nested backend to self._backend but do not set the\u001b[39;00m\n\u001b[1;32m    260\u001b[0m     \u001b[38;5;66;03m# change the default number of processes to -1\u001b[39;00m\n\u001b[1;32m    261\u001b[0m     \u001b[38;5;28;01mwith\u001b[39;00m parallel_backend(\u001b[38;5;28mself\u001b[39m\u001b[38;5;241m.\u001b[39m_backend, n_jobs\u001b[38;5;241m=\u001b[39m\u001b[38;5;28mself\u001b[39m\u001b[38;5;241m.\u001b[39m_n_jobs):\n\u001b[0;32m--> 262\u001b[0m         \u001b[38;5;28;01mreturn\u001b[39;00m [func(\u001b[38;5;241m*\u001b[39margs, \u001b[38;5;241m*\u001b[39m\u001b[38;5;241m*\u001b[39mkwargs)\n\u001b[1;32m    263\u001b[0m                 \u001b[38;5;28;01mfor\u001b[39;00m func, args, kwargs \u001b[38;5;129;01min\u001b[39;00m \u001b[38;5;28mself\u001b[39m\u001b[38;5;241m.\u001b[39mitems]\n",
      "File \u001b[0;32m~/opt/anaconda3/lib/python3.9/site-packages/joblib/parallel.py:262\u001b[0m, in \u001b[0;36m<listcomp>\u001b[0;34m(.0)\u001b[0m\n\u001b[1;32m    258\u001b[0m \u001b[38;5;28;01mdef\u001b[39;00m \u001b[38;5;21m__call__\u001b[39m(\u001b[38;5;28mself\u001b[39m):\n\u001b[1;32m    259\u001b[0m     \u001b[38;5;66;03m# Set the default nested backend to self._backend but do not set the\u001b[39;00m\n\u001b[1;32m    260\u001b[0m     \u001b[38;5;66;03m# change the default number of processes to -1\u001b[39;00m\n\u001b[1;32m    261\u001b[0m     \u001b[38;5;28;01mwith\u001b[39;00m parallel_backend(\u001b[38;5;28mself\u001b[39m\u001b[38;5;241m.\u001b[39m_backend, n_jobs\u001b[38;5;241m=\u001b[39m\u001b[38;5;28mself\u001b[39m\u001b[38;5;241m.\u001b[39m_n_jobs):\n\u001b[0;32m--> 262\u001b[0m         \u001b[38;5;28;01mreturn\u001b[39;00m [\u001b[43mfunc\u001b[49m\u001b[43m(\u001b[49m\u001b[38;5;241;43m*\u001b[39;49m\u001b[43margs\u001b[49m\u001b[43m,\u001b[49m\u001b[43m \u001b[49m\u001b[38;5;241;43m*\u001b[39;49m\u001b[38;5;241;43m*\u001b[39;49m\u001b[43mkwargs\u001b[49m\u001b[43m)\u001b[49m\n\u001b[1;32m    263\u001b[0m                 \u001b[38;5;28;01mfor\u001b[39;00m func, args, kwargs \u001b[38;5;129;01min\u001b[39;00m \u001b[38;5;28mself\u001b[39m\u001b[38;5;241m.\u001b[39mitems]\n",
      "File \u001b[0;32m~/opt/anaconda3/lib/python3.9/site-packages/sklearn/utils/fixes.py:117\u001b[0m, in \u001b[0;36m_FuncWrapper.__call__\u001b[0;34m(self, *args, **kwargs)\u001b[0m\n\u001b[1;32m    115\u001b[0m \u001b[38;5;28;01mdef\u001b[39;00m \u001b[38;5;21m__call__\u001b[39m(\u001b[38;5;28mself\u001b[39m, \u001b[38;5;241m*\u001b[39margs, \u001b[38;5;241m*\u001b[39m\u001b[38;5;241m*\u001b[39mkwargs):\n\u001b[1;32m    116\u001b[0m     \u001b[38;5;28;01mwith\u001b[39;00m config_context(\u001b[38;5;241m*\u001b[39m\u001b[38;5;241m*\u001b[39m\u001b[38;5;28mself\u001b[39m\u001b[38;5;241m.\u001b[39mconfig):\n\u001b[0;32m--> 117\u001b[0m         \u001b[38;5;28;01mreturn\u001b[39;00m \u001b[38;5;28;43mself\u001b[39;49m\u001b[38;5;241;43m.\u001b[39;49m\u001b[43mfunction\u001b[49m\u001b[43m(\u001b[49m\u001b[38;5;241;43m*\u001b[39;49m\u001b[43margs\u001b[49m\u001b[43m,\u001b[49m\u001b[43m \u001b[49m\u001b[38;5;241;43m*\u001b[39;49m\u001b[38;5;241;43m*\u001b[39;49m\u001b[43mkwargs\u001b[49m\u001b[43m)\u001b[49m\n",
      "File \u001b[0;32m~/opt/anaconda3/lib/python3.9/site-packages/sklearn/model_selection/_validation.py:686\u001b[0m, in \u001b[0;36m_fit_and_score\u001b[0;34m(estimator, X, y, scorer, train, test, verbose, parameters, fit_params, return_train_score, return_parameters, return_n_test_samples, return_times, return_estimator, split_progress, candidate_progress, error_score)\u001b[0m\n\u001b[1;32m    684\u001b[0m         estimator\u001b[38;5;241m.\u001b[39mfit(X_train, \u001b[38;5;241m*\u001b[39m\u001b[38;5;241m*\u001b[39mfit_params)\n\u001b[1;32m    685\u001b[0m     \u001b[38;5;28;01melse\u001b[39;00m:\n\u001b[0;32m--> 686\u001b[0m         \u001b[43mestimator\u001b[49m\u001b[38;5;241;43m.\u001b[39;49m\u001b[43mfit\u001b[49m\u001b[43m(\u001b[49m\u001b[43mX_train\u001b[49m\u001b[43m,\u001b[49m\u001b[43m \u001b[49m\u001b[43my_train\u001b[49m\u001b[43m,\u001b[49m\u001b[43m \u001b[49m\u001b[38;5;241;43m*\u001b[39;49m\u001b[38;5;241;43m*\u001b[39;49m\u001b[43mfit_params\u001b[49m\u001b[43m)\u001b[49m\n\u001b[1;32m    688\u001b[0m \u001b[38;5;28;01mexcept\u001b[39;00m \u001b[38;5;167;01mException\u001b[39;00m:\n\u001b[1;32m    689\u001b[0m     \u001b[38;5;66;03m# Note fit time as time until error\u001b[39;00m\n\u001b[1;32m    690\u001b[0m     fit_time \u001b[38;5;241m=\u001b[39m time\u001b[38;5;241m.\u001b[39mtime() \u001b[38;5;241m-\u001b[39m start_time\n",
      "File \u001b[0;32m~/opt/anaconda3/lib/python3.9/site-packages/sklearn/tree/_classes.py:969\u001b[0m, in \u001b[0;36mDecisionTreeClassifier.fit\u001b[0;34m(self, X, y, sample_weight, check_input)\u001b[0m\n\u001b[1;32m    939\u001b[0m \u001b[38;5;28;01mdef\u001b[39;00m \u001b[38;5;21mfit\u001b[39m(\u001b[38;5;28mself\u001b[39m, X, y, sample_weight\u001b[38;5;241m=\u001b[39m\u001b[38;5;28;01mNone\u001b[39;00m, check_input\u001b[38;5;241m=\u001b[39m\u001b[38;5;28;01mTrue\u001b[39;00m):\n\u001b[1;32m    940\u001b[0m     \u001b[38;5;124;03m\"\"\"Build a decision tree classifier from the training set (X, y).\u001b[39;00m\n\u001b[1;32m    941\u001b[0m \n\u001b[1;32m    942\u001b[0m \u001b[38;5;124;03m    Parameters\u001b[39;00m\n\u001b[0;32m   (...)\u001b[0m\n\u001b[1;32m    966\u001b[0m \u001b[38;5;124;03m        Fitted estimator.\u001b[39;00m\n\u001b[1;32m    967\u001b[0m \u001b[38;5;124;03m    \"\"\"\u001b[39;00m\n\u001b[0;32m--> 969\u001b[0m     \u001b[38;5;28;43msuper\u001b[39;49m\u001b[43m(\u001b[49m\u001b[43m)\u001b[49m\u001b[38;5;241;43m.\u001b[39;49m\u001b[43mfit\u001b[49m\u001b[43m(\u001b[49m\n\u001b[1;32m    970\u001b[0m \u001b[43m        \u001b[49m\u001b[43mX\u001b[49m\u001b[43m,\u001b[49m\n\u001b[1;32m    971\u001b[0m \u001b[43m        \u001b[49m\u001b[43my\u001b[49m\u001b[43m,\u001b[49m\n\u001b[1;32m    972\u001b[0m \u001b[43m        \u001b[49m\u001b[43msample_weight\u001b[49m\u001b[38;5;241;43m=\u001b[39;49m\u001b[43msample_weight\u001b[49m\u001b[43m,\u001b[49m\n\u001b[1;32m    973\u001b[0m \u001b[43m        \u001b[49m\u001b[43mcheck_input\u001b[49m\u001b[38;5;241;43m=\u001b[39;49m\u001b[43mcheck_input\u001b[49m\u001b[43m,\u001b[49m\n\u001b[1;32m    974\u001b[0m \u001b[43m    \u001b[49m\u001b[43m)\u001b[49m\n\u001b[1;32m    975\u001b[0m     \u001b[38;5;28;01mreturn\u001b[39;00m \u001b[38;5;28mself\u001b[39m\n",
      "File \u001b[0;32m~/opt/anaconda3/lib/python3.9/site-packages/sklearn/tree/_classes.py:458\u001b[0m, in \u001b[0;36mBaseDecisionTree.fit\u001b[0;34m(self, X, y, sample_weight, check_input)\u001b[0m\n\u001b[1;32m    447\u001b[0m \u001b[38;5;28;01melse\u001b[39;00m:\n\u001b[1;32m    448\u001b[0m     builder \u001b[38;5;241m=\u001b[39m BestFirstTreeBuilder(\n\u001b[1;32m    449\u001b[0m         splitter,\n\u001b[1;32m    450\u001b[0m         min_samples_split,\n\u001b[0;32m   (...)\u001b[0m\n\u001b[1;32m    455\u001b[0m         \u001b[38;5;28mself\u001b[39m\u001b[38;5;241m.\u001b[39mmin_impurity_decrease,\n\u001b[1;32m    456\u001b[0m     )\n\u001b[0;32m--> 458\u001b[0m \u001b[43mbuilder\u001b[49m\u001b[38;5;241;43m.\u001b[39;49m\u001b[43mbuild\u001b[49m\u001b[43m(\u001b[49m\u001b[38;5;28;43mself\u001b[39;49m\u001b[38;5;241;43m.\u001b[39;49m\u001b[43mtree_\u001b[49m\u001b[43m,\u001b[49m\u001b[43m \u001b[49m\u001b[43mX\u001b[49m\u001b[43m,\u001b[49m\u001b[43m \u001b[49m\u001b[43my\u001b[49m\u001b[43m,\u001b[49m\u001b[43m \u001b[49m\u001b[43msample_weight\u001b[49m\u001b[43m)\u001b[49m\n\u001b[1;32m    460\u001b[0m \u001b[38;5;28;01mif\u001b[39;00m \u001b[38;5;28mself\u001b[39m\u001b[38;5;241m.\u001b[39mn_outputs_ \u001b[38;5;241m==\u001b[39m \u001b[38;5;241m1\u001b[39m \u001b[38;5;129;01mand\u001b[39;00m is_classifier(\u001b[38;5;28mself\u001b[39m):\n\u001b[1;32m    461\u001b[0m     \u001b[38;5;28mself\u001b[39m\u001b[38;5;241m.\u001b[39mn_classes_ \u001b[38;5;241m=\u001b[39m \u001b[38;5;28mself\u001b[39m\u001b[38;5;241m.\u001b[39mn_classes_[\u001b[38;5;241m0\u001b[39m]\n",
      "\u001b[0;31mKeyboardInterrupt\u001b[0m: "
     ]
    }
   ],
   "source": [
    "#fit model to training data\n",
    "tree_CV.fit(X2_train, y2_train)"
   ]
  },
  {
   "cell_type": "code",
   "execution_count": null,
   "id": "e58fa6e7-8c0b-43ae-b53c-968500f701ee",
   "metadata": {},
   "outputs": [],
   "source": [
    "#get best parameters for decision tree with cross validation from the range we defined previously\n",
    "tree_CV.best_params_"
   ]
  },
  {
   "cell_type": "code",
   "execution_count": null,
   "id": "3df28b9d-677a-44b2-a4d5-cdf5498cd0d5",
   "metadata": {},
   "outputs": [],
   "source": [
    "print(\" Results from Grid Search \" )\n",
    "print(\"\\n The best estimator across ALL searched params:\\n\",tree_CV.best_estimator_)\n",
    "print(\"\\n The best score across ALL searched params:\\n\",tree_CV.best_score_)\n",
    "print(\"\\n The best parameters across ALL searched params:\\n\",tree_CV.best_params_)"
   ]
  },
  {
   "cell_type": "code",
   "execution_count": null,
   "id": "eca5b87b-8c80-4af3-899e-2161ef2555a6",
   "metadata": {},
   "outputs": [],
   "source": [
    "#print classification report to see how well our model performed\n",
    "y_pred_class2 = tree_CV.predict(X2_test)\n",
    "print(classification_report(y2_test, y_pred_class2))"
   ]
  },
  {
   "cell_type": "code",
   "execution_count": null,
   "id": "ebf03cff-0bf0-4cb6-aaec-79622140f2d0",
   "metadata": {},
   "outputs": [],
   "source": [
    "#create confusion matrix for our decision tree with cross validation\n",
    "import numpy as np\n",
    "import matplotlib.pyplot as plt\n",
    "import seaborn as sns\n",
    "from sklearn.metrics import confusion_matrix\n",
    "\n",
    "#create confusion matrix and heatmap\n",
    "ax= plt.subplot()\n",
    "cm = confusion_matrix(y2_test, y_pred_class2) \n",
    "sns.heatmap(cm, cmap=\"Reds\", annot=True,fmt= \"d\", ax = ax); #fmt=d so we see whole numbers not e^something\n",
    "\n",
    "#define ticks, labels and title for heatmap\n",
    "class_labels = [\"1\",\"2\",\"3\",\"4\"]\n",
    "tick_marks = np.arange(len(class_labels))+0.5 #+0.5 for position of the labels\n",
    "ax.set_xticks(tick_marks)\n",
    "ax.set_xticklabels(class_labels,rotation=0) #rotation = 0 -> labels are horizontal not rotated\n",
    "ax.set_yticks(tick_marks)\n",
    "ax.set_yticklabels(class_labels,rotation=0)\n",
    "\n",
    "ax.set_xlabel('Predicted values');\n",
    "ax.set_ylabel('True values');\n",
    "ax.set_title('Confusion Matrix Decision Tree CV');"
   ]
  },
  {
   "cell_type": "code",
   "execution_count": 65,
   "id": "f1493d1f-c43e-43de-a739-e3d11352a5d9",
   "metadata": {},
   "outputs": [],
   "source": [
    "#do a random forest\n",
    "X3 = df4.drop('dangerclasses',axis=1)\n",
    "y3 = df4['dangerclasses']"
   ]
  },
  {
   "cell_type": "code",
   "execution_count": 66,
   "id": "613d1b1a-299e-4005-9995-dbc2660ad545",
   "metadata": {},
   "outputs": [],
   "source": [
    "X3_train, X3_test, y3_train, y3_test = train_test_split(X3, y3, test_size=0.3, random_state=1)"
   ]
  },
  {
   "cell_type": "code",
   "execution_count": null,
   "id": "efeedac7-7de6-4bbe-920c-4e4238cb73c3",
   "metadata": {},
   "outputs": [],
   "source": [
    "parameters = {\n",
    "    \"n_estimators\":[5,10,50,100,250],\n",
    "    \n",
    "}"
   ]
  },
  {
   "cell_type": "code",
   "execution_count": null,
   "id": "7f9fb51b-98bf-47c4-a50a-1335c70baa06",
   "metadata": {},
   "outputs": [],
   "source": [
    "rfc = RandomForestClassifier()"
   ]
  },
  {
   "cell_type": "code",
   "execution_count": null,
   "id": "8da2f7a4-a543-4ab4-8e2c-faf0d8e2fbcc",
   "metadata": {},
   "outputs": [],
   "source": [
    "from sklearn.model_selection import GridSearchCV\n",
    "\n",
    "cv = GridSearchCV(rfc,parameters,cv=5)\n",
    "cv.fit(X6_train, y6_train.values.ravel())"
   ]
  },
  {
   "cell_type": "code",
   "execution_count": null,
   "id": "24169d98-79f2-40f7-8314-051cc0a47973",
   "metadata": {},
   "outputs": [],
   "source": [
    "def display(results):\n",
    "    print(f'Best parameters are: {results.best_params_}')\n",
    "    print(\"\\n\")\n",
    "    mean_score = results.cv_results_['mean_test_score']\n",
    "    std_score = results.cv_results_['std_test_score']\n",
    "    params = results.cv_results_['params']\n",
    "    for mean,std,params in zip(mean_score,std_score,params):\n",
    "        print(f'{round(mean,3)} + or -{round(std,3)} for the {params}')"
   ]
  },
  {
   "cell_type": "code",
   "execution_count": null,
   "id": "8786f751-1247-4b10-ac24-c450e160afb3",
   "metadata": {},
   "outputs": [],
   "source": [
    "display(cv)"
   ]
  },
  {
   "cell_type": "code",
   "execution_count": null,
   "id": "3a8280c5-d50b-4113-8776-88e9fffb5fd2",
   "metadata": {},
   "outputs": [],
   "source": [
    "parameters2 = {\n",
    "    \"n_estimators\":[250, 500, 750, 1000],\n",
    "    \n",
    "}"
   ]
  },
  {
   "cell_type": "code",
   "execution_count": null,
   "id": "d0fe4f36-c9e8-43d2-968f-b9749fb8b288",
   "metadata": {},
   "outputs": [],
   "source": [
    "rfc2 = RandomForestClassifier()"
   ]
  },
  {
   "cell_type": "code",
   "execution_count": null,
   "id": "d7461262-e698-42fc-a70e-e4db36176704",
   "metadata": {},
   "outputs": [],
   "source": [
    "from sklearn.model_selection import GridSearchCV\n",
    "\n",
    "cv = GridSearchCV(rfc2,parameters2,cv=5)\n",
    "cv.fit(X6_train, y6_train.values.ravel())"
   ]
  },
  {
   "cell_type": "code",
   "execution_count": null,
   "id": "c947f5e9-cec8-4640-bbc5-109faf51c20a",
   "metadata": {},
   "outputs": [],
   "source": [
    "display(cv)"
   ]
  },
  {
   "cell_type": "code",
   "execution_count": 71,
   "id": "869a94b9-ee3c-45a0-93d7-dc66b3cd7b37",
   "metadata": {},
   "outputs": [],
   "source": [
    "#use n_estimators = 750\n",
    "forest = RandomForestClassifier(n_estimators = 750)"
   ]
  },
  {
   "cell_type": "code",
   "execution_count": 72,
   "id": "14f582f9-1f9d-48fa-8975-eb5422102be4",
   "metadata": {},
   "outputs": [
    {
     "data": {
      "text/html": [
       "<style>#sk-container-id-4 {color: black;background-color: white;}#sk-container-id-4 pre{padding: 0;}#sk-container-id-4 div.sk-toggleable {background-color: white;}#sk-container-id-4 label.sk-toggleable__label {cursor: pointer;display: block;width: 100%;margin-bottom: 0;padding: 0.3em;box-sizing: border-box;text-align: center;}#sk-container-id-4 label.sk-toggleable__label-arrow:before {content: \"▸\";float: left;margin-right: 0.25em;color: #696969;}#sk-container-id-4 label.sk-toggleable__label-arrow:hover:before {color: black;}#sk-container-id-4 div.sk-estimator:hover label.sk-toggleable__label-arrow:before {color: black;}#sk-container-id-4 div.sk-toggleable__content {max-height: 0;max-width: 0;overflow: hidden;text-align: left;background-color: #f0f8ff;}#sk-container-id-4 div.sk-toggleable__content pre {margin: 0.2em;color: black;border-radius: 0.25em;background-color: #f0f8ff;}#sk-container-id-4 input.sk-toggleable__control:checked~div.sk-toggleable__content {max-height: 200px;max-width: 100%;overflow: auto;}#sk-container-id-4 input.sk-toggleable__control:checked~label.sk-toggleable__label-arrow:before {content: \"▾\";}#sk-container-id-4 div.sk-estimator input.sk-toggleable__control:checked~label.sk-toggleable__label {background-color: #d4ebff;}#sk-container-id-4 div.sk-label input.sk-toggleable__control:checked~label.sk-toggleable__label {background-color: #d4ebff;}#sk-container-id-4 input.sk-hidden--visually {border: 0;clip: rect(1px 1px 1px 1px);clip: rect(1px, 1px, 1px, 1px);height: 1px;margin: -1px;overflow: hidden;padding: 0;position: absolute;width: 1px;}#sk-container-id-4 div.sk-estimator {font-family: monospace;background-color: #f0f8ff;border: 1px dotted black;border-radius: 0.25em;box-sizing: border-box;margin-bottom: 0.5em;}#sk-container-id-4 div.sk-estimator:hover {background-color: #d4ebff;}#sk-container-id-4 div.sk-parallel-item::after {content: \"\";width: 100%;border-bottom: 1px solid gray;flex-grow: 1;}#sk-container-id-4 div.sk-label:hover label.sk-toggleable__label {background-color: #d4ebff;}#sk-container-id-4 div.sk-serial::before {content: \"\";position: absolute;border-left: 1px solid gray;box-sizing: border-box;top: 0;bottom: 0;left: 50%;z-index: 0;}#sk-container-id-4 div.sk-serial {display: flex;flex-direction: column;align-items: center;background-color: white;padding-right: 0.2em;padding-left: 0.2em;position: relative;}#sk-container-id-4 div.sk-item {position: relative;z-index: 1;}#sk-container-id-4 div.sk-parallel {display: flex;align-items: stretch;justify-content: center;background-color: white;position: relative;}#sk-container-id-4 div.sk-item::before, #sk-container-id-4 div.sk-parallel-item::before {content: \"\";position: absolute;border-left: 1px solid gray;box-sizing: border-box;top: 0;bottom: 0;left: 50%;z-index: -1;}#sk-container-id-4 div.sk-parallel-item {display: flex;flex-direction: column;z-index: 1;position: relative;background-color: white;}#sk-container-id-4 div.sk-parallel-item:first-child::after {align-self: flex-end;width: 50%;}#sk-container-id-4 div.sk-parallel-item:last-child::after {align-self: flex-start;width: 50%;}#sk-container-id-4 div.sk-parallel-item:only-child::after {width: 0;}#sk-container-id-4 div.sk-dashed-wrapped {border: 1px dashed gray;margin: 0 0.4em 0.5em 0.4em;box-sizing: border-box;padding-bottom: 0.4em;background-color: white;}#sk-container-id-4 div.sk-label label {font-family: monospace;font-weight: bold;display: inline-block;line-height: 1.2em;}#sk-container-id-4 div.sk-label-container {text-align: center;}#sk-container-id-4 div.sk-container {/* jupyter's `normalize.less` sets `[hidden] { display: none; }` but bootstrap.min.css set `[hidden] { display: none !important; }` so we also need the `!important` here to be able to override the default hidden behavior on the sphinx rendered scikit-learn.org. See: https://github.com/scikit-learn/scikit-learn/issues/21755 */display: inline-block !important;position: relative;}#sk-container-id-4 div.sk-text-repr-fallback {display: none;}</style><div id=\"sk-container-id-4\" class=\"sk-top-container\"><div class=\"sk-text-repr-fallback\"><pre>RandomForestClassifier(n_estimators=750)</pre><b>In a Jupyter environment, please rerun this cell to show the HTML representation or trust the notebook. <br />On GitHub, the HTML representation is unable to render, please try loading this page with nbviewer.org.</b></div><div class=\"sk-container\" hidden><div class=\"sk-item\"><div class=\"sk-estimator sk-toggleable\"><input class=\"sk-toggleable__control sk-hidden--visually\" id=\"sk-estimator-id-4\" type=\"checkbox\" checked><label for=\"sk-estimator-id-4\" class=\"sk-toggleable__label sk-toggleable__label-arrow\">RandomForestClassifier</label><div class=\"sk-toggleable__content\"><pre>RandomForestClassifier(n_estimators=750)</pre></div></div></div></div></div>"
      ],
      "text/plain": [
       "RandomForestClassifier(n_estimators=750)"
      ]
     },
     "execution_count": 72,
     "metadata": {},
     "output_type": "execute_result"
    }
   ],
   "source": [
    "forest.fit(X3_train,y3_train)"
   ]
  },
  {
   "cell_type": "code",
   "execution_count": 73,
   "id": "530063af-43e1-4c22-ae2f-5585dd7e0b11",
   "metadata": {},
   "outputs": [],
   "source": [
    "#plot the importance of the variables from most to least important\n",
    "def plot_variable_importance(model, X3_train):\n",
    "    import matplotlib.pyplot as plt\n",
    "    from pandas import DataFrame\n",
    "    imp=DataFrame({\"imp\":model.feature_importances_, \"names\":X3_train.columns}).sort_values(\"imp\", ascending=True)\n",
    "    fig, ax = plt.subplots(figsize=(imp.shape[0]/6,imp.shape[0]/5), dpi=300)\n",
    "    ax.barh(imp[\"names\"],imp[\"imp\"], color=\"green\") \n",
    "    ax.set_xlabel('\\nVariable Importance')\n",
    "    ax.set_ylabel('Features\\n') \n",
    "    ax.set_title('Variable Importance Plot\\n') \n",
    "    plt.show() "
   ]
  },
  {
   "cell_type": "code",
   "execution_count": 74,
   "id": "cb2932fb-2eb5-4298-b4ee-a6fd3cc204f7",
   "metadata": {},
   "outputs": [
    {
     "data": {
      "image/png": "[encoded data removed]",
      "text/plain": [
       "<Figure size 550x660 with 1 Axes>"
      ]
     },
     "metadata": {
      "needs_background": "light"
     },
     "output_type": "display_data"
    }
   ],
   "source": [
    "plot_variable_importance(forest, X3_train)"
   ]
  },
  {
   "cell_type": "code",
   "execution_count": 75,
   "id": "1ee535a0-4e09-473f-affa-89043d5a9494",
   "metadata": {},
   "outputs": [
    {
     "name": "stdout",
     "output_type": "stream",
     "text": [
      "              precision    recall  f1-score   support\n",
      "\n",
      "         1.0       0.99      0.86      0.92      1879\n",
      "         2.0       0.75      0.82      0.79      9488\n",
      "         3.0       0.74      0.70      0.72      7690\n",
      "         4.0       0.66      0.29      0.41       297\n",
      "\n",
      "    accuracy                           0.77     19354\n",
      "   macro avg       0.79      0.67      0.71     19354\n",
      "weighted avg       0.77      0.77      0.77     19354\n",
      "\n"
     ]
    }
   ],
   "source": [
    "y_pred_class3 = forest.predict(X3_test)\n",
    "print(classification_report(y3_test, y_pred_class3))"
   ]
  },
  {
   "cell_type": "code",
   "execution_count": 76,
   "id": "01ed805d-478c-4eb0-8615-8dc1c5880a4a",
   "metadata": {},
   "outputs": [
    {
     "data": {
      "image/png": "[encoded data removed]",
      "text/plain": [
       "<Figure size 432x288 with 2 Axes>"
      ]
     },
     "metadata": {
      "needs_background": "light"
     },
     "output_type": "display_data"
    }
   ],
   "source": [
    "import numpy as np\n",
    "import matplotlib.pyplot as plt\n",
    "import seaborn as sns\n",
    "from sklearn.metrics import confusion_matrix\n",
    "\n",
    "#create confusion matrix and heatmap\n",
    "ax= plt.subplot()\n",
    "cm = confusion_matrix(y3_test, y_pred_class3) \n",
    "sns.heatmap(cm, cmap=\"Reds\", annot=True,fmt= \"d\", ax = ax); #fmt=d so we see whole numbers not e^something\n",
    "\n",
    "#define ticks, labels and title for heatmap\n",
    "class_labels = [\"1\",\"2\",\"3\",\"4\"]\n",
    "tick_marks = np.arange(len(class_labels))+0.5 #+0.5 for position of the labels\n",
    "ax.set_xticks(tick_marks)\n",
    "ax.set_xticklabels(class_labels,rotation=0) #rotation = 0 -> labels are horizontal not rotated\n",
    "ax.set_yticks(tick_marks)\n",
    "ax.set_yticklabels(class_labels,rotation=0)\n",
    "\n",
    "ax.set_xlabel('Predicted values');\n",
    "ax.set_ylabel('True values');\n",
    "ax.set_title('Confusion Matrix Random Forest');"
   ]
  },
  {
   "cell_type": "code",
   "execution_count": 77,
   "id": "66c7c039-bf80-4a13-b64e-a891d819497a",
   "metadata": {},
   "outputs": [],
   "source": [
    "y4 = df4['dangerclasses']\n",
    "X4 = df4.drop('dangerclasses', axis=1)"
   ]
  },
  {
   "cell_type": "code",
   "execution_count": 78,
   "id": "0b8bef2f-d306-4be9-8cf6-5b5857b40204",
   "metadata": {},
   "outputs": [
    {
     "data": {
      "text/plain": [
       "2.0    31737\n",
       "3.0    25368\n",
       "1.0     6376\n",
       "4.0     1032\n",
       "Name: dangerclasses, dtype: int64"
      ]
     },
     "execution_count": 78,
     "metadata": {},
     "output_type": "execute_result"
    }
   ],
   "source": [
    "#figure out how many values we have of each danger class\n",
    "y4.value_counts()"
   ]
  },
  {
   "cell_type": "code",
   "execution_count": 79,
   "id": "fa028edf-dbf0-4565-bbfc-daa7788d8d7a",
   "metadata": {},
   "outputs": [],
   "source": [
    "import numpy as np\n",
    "# Data visualization\n",
    "import matplotlib.pyplot as plt\n",
    "import seaborn as sns\n",
    "# Oversampling and under sampling\n",
    "from imblearn.over_sampling import RandomOverSampler, SMOTE\n",
    "from imblearn.under_sampling import RandomUnderSampler, NearMiss\n",
    "from collections import Counter"
   ]
  },
  {
   "cell_type": "code",
   "execution_count": 80,
   "id": "6bc25ad2-de26-4dc8-8528-67ea8d20b657",
   "metadata": {},
   "outputs": [],
   "source": [
    "#define independent features i.e. x \n",
    "#define dependent features i.e. y\n",
    "\n",
    "y5 = df4['dangerclasses']\n",
    "X5 = df4.drop('dangerclasses', axis=1)"
   ]
  },
  {
   "cell_type": "code",
   "execution_count": 81,
   "id": "bd5bf405-66c7-4161-ae93-6aa199d70bb4",
   "metadata": {},
   "outputs": [],
   "source": [
    "#split dataframe into random samples for training and testing\n",
    "X5_train, X5_test, y5_train, y5_test = train_test_split(X5, y5, test_size = 0.3, random_state=1)"
   ]
  },
  {
   "cell_type": "code",
   "execution_count": 82,
   "id": "eca9302b-79a6-4bd0-ab00-d54cd8192fdb",
   "metadata": {},
   "outputs": [
    {
     "name": "stdout",
     "output_type": "stream",
     "text": [
      "[(1.0, 22249), (2.0, 22249), (3.0, 22249), (4.0, 22249)]\n"
     ]
    }
   ],
   "source": [
    "#Do random oversampling on the minority classes \n",
    "from imblearn.over_sampling import RandomOverSampler\n",
    "ros = RandomOverSampler(random_state=42)\n",
    "X5_train_ros, y5_train_ros= ros.fit_resample(X5_train, y5_train)\n",
    "# Check the number of records after over sampling\n",
    "print(sorted(Counter(y5_train_ros).items()))"
   ]
  },
  {
   "cell_type": "code",
   "execution_count": 83,
   "id": "8aed8d42-f9f3-4915-8bbe-f57ad2d3691a",
   "metadata": {},
   "outputs": [],
   "source": [
    "#create decision tree classifier and try with max depth 2 (later we will optimize)\n",
    "tree = DecisionTreeClassifier(criterion=\"entropy\", max_depth = 2)"
   ]
  },
  {
   "cell_type": "code",
   "execution_count": 84,
   "id": "75d2e546-7227-4afc-8572-68eac2ef608c",
   "metadata": {},
   "outputs": [
    {
     "data": {
      "text/html": [
       "<style>#sk-container-id-5 {color: black;background-color: white;}#sk-container-id-5 pre{padding: 0;}#sk-container-id-5 div.sk-toggleable {background-color: white;}#sk-container-id-5 label.sk-toggleable__label {cursor: pointer;display: block;width: 100%;margin-bottom: 0;padding: 0.3em;box-sizing: border-box;text-align: center;}#sk-container-id-5 label.sk-toggleable__label-arrow:before {content: \"▸\";float: left;margin-right: 0.25em;color: #696969;}#sk-container-id-5 label.sk-toggleable__label-arrow:hover:before {color: black;}#sk-container-id-5 div.sk-estimator:hover label.sk-toggleable__label-arrow:before {color: black;}#sk-container-id-5 div.sk-toggleable__content {max-height: 0;max-width: 0;overflow: hidden;text-align: left;background-color: #f0f8ff;}#sk-container-id-5 div.sk-toggleable__content pre {margin: 0.2em;color: black;border-radius: 0.25em;background-color: #f0f8ff;}#sk-container-id-5 input.sk-toggleable__control:checked~div.sk-toggleable__content {max-height: 200px;max-width: 100%;overflow: auto;}#sk-container-id-5 input.sk-toggleable__control:checked~label.sk-toggleable__label-arrow:before {content: \"▾\";}#sk-container-id-5 div.sk-estimator input.sk-toggleable__control:checked~label.sk-toggleable__label {background-color: #d4ebff;}#sk-container-id-5 div.sk-label input.sk-toggleable__control:checked~label.sk-toggleable__label {background-color: #d4ebff;}#sk-container-id-5 input.sk-hidden--visually {border: 0;clip: rect(1px 1px 1px 1px);clip: rect(1px, 1px, 1px, 1px);height: 1px;margin: -1px;overflow: hidden;padding: 0;position: absolute;width: 1px;}#sk-container-id-5 div.sk-estimator {font-family: monospace;background-color: #f0f8ff;border: 1px dotted black;border-radius: 0.25em;box-sizing: border-box;margin-bottom: 0.5em;}#sk-container-id-5 div.sk-estimator:hover {background-color: #d4ebff;}#sk-container-id-5 div.sk-parallel-item::after {content: \"\";width: 100%;border-bottom: 1px solid gray;flex-grow: 1;}#sk-container-id-5 div.sk-label:hover label.sk-toggleable__label {background-color: #d4ebff;}#sk-container-id-5 div.sk-serial::before {content: \"\";position: absolute;border-left: 1px solid gray;box-sizing: border-box;top: 0;bottom: 0;left: 50%;z-index: 0;}#sk-container-id-5 div.sk-serial {display: flex;flex-direction: column;align-items: center;background-color: white;padding-right: 0.2em;padding-left: 0.2em;position: relative;}#sk-container-id-5 div.sk-item {position: relative;z-index: 1;}#sk-container-id-5 div.sk-parallel {display: flex;align-items: stretch;justify-content: center;background-color: white;position: relative;}#sk-container-id-5 div.sk-item::before, #sk-container-id-5 div.sk-parallel-item::before {content: \"\";position: absolute;border-left: 1px solid gray;box-sizing: border-box;top: 0;bottom: 0;left: 50%;z-index: -1;}#sk-container-id-5 div.sk-parallel-item {display: flex;flex-direction: column;z-index: 1;position: relative;background-color: white;}#sk-container-id-5 div.sk-parallel-item:first-child::after {align-self: flex-end;width: 50%;}#sk-container-id-5 div.sk-parallel-item:last-child::after {align-self: flex-start;width: 50%;}#sk-container-id-5 div.sk-parallel-item:only-child::after {width: 0;}#sk-container-id-5 div.sk-dashed-wrapped {border: 1px dashed gray;margin: 0 0.4em 0.5em 0.4em;box-sizing: border-box;padding-bottom: 0.4em;background-color: white;}#sk-container-id-5 div.sk-label label {font-family: monospace;font-weight: bold;display: inline-block;line-height: 1.2em;}#sk-container-id-5 div.sk-label-container {text-align: center;}#sk-container-id-5 div.sk-container {/* jupyter's `normalize.less` sets `[hidden] { display: none; }` but bootstrap.min.css set `[hidden] { display: none !important; }` so we also need the `!important` here to be able to override the default hidden behavior on the sphinx rendered scikit-learn.org. See: https://github.com/scikit-learn/scikit-learn/issues/21755 */display: inline-block !important;position: relative;}#sk-container-id-5 div.sk-text-repr-fallback {display: none;}</style><div id=\"sk-container-id-5\" class=\"sk-top-container\"><div class=\"sk-text-repr-fallback\"><pre>DecisionTreeClassifier(criterion=&#x27;entropy&#x27;, max_depth=2)</pre><b>In a Jupyter environment, please rerun this cell to show the HTML representation or trust the notebook. <br />On GitHub, the HTML representation is unable to render, please try loading this page with nbviewer.org.</b></div><div class=\"sk-container\" hidden><div class=\"sk-item\"><div class=\"sk-estimator sk-toggleable\"><input class=\"sk-toggleable__control sk-hidden--visually\" id=\"sk-estimator-id-5\" type=\"checkbox\" checked><label for=\"sk-estimator-id-5\" class=\"sk-toggleable__label sk-toggleable__label-arrow\">DecisionTreeClassifier</label><div class=\"sk-toggleable__content\"><pre>DecisionTreeClassifier(criterion=&#x27;entropy&#x27;, max_depth=2)</pre></div></div></div></div></div>"
      ],
      "text/plain": [
       "DecisionTreeClassifier(criterion='entropy', max_depth=2)"
      ]
     },
     "execution_count": 84,
     "metadata": {},
     "output_type": "execute_result"
    }
   ],
   "source": [
    "#fit model to training data\n",
    "tree.fit(X5_train_ros, y5_train_ros)"
   ]
  },
  {
   "cell_type": "code",
   "execution_count": 85,
   "id": "737b55e5-3ca9-4eb5-af1c-89a1af9c8a8c",
   "metadata": {},
   "outputs": [
    {
     "data": {
      "text/plain": [
       "array([1., 2., 2., ..., 2., 2., 2.])"
      ]
     },
     "execution_count": 85,
     "metadata": {},
     "output_type": "execute_result"
    }
   ],
   "source": [
    "y5_preds_class_ros = tree.predict(X5_test)\n",
    "y5_preds_class_ros"
   ]
  },
  {
   "cell_type": "code",
   "execution_count": 86,
   "id": "51c6a585-bc4b-4739-b23c-dd497753906d",
   "metadata": {},
   "outputs": [
    {
     "name": "stdout",
     "output_type": "stream",
     "text": [
      "              precision    recall  f1-score   support\n",
      "\n",
      "         1.0       1.00      0.78      0.87      1879\n",
      "         2.0       0.59      0.96      0.73      9488\n",
      "         3.0       0.00      0.00      0.00      7690\n",
      "         4.0       0.11      0.89      0.19       297\n",
      "\n",
      "    accuracy                           0.56     19354\n",
      "   macro avg       0.43      0.66      0.45     19354\n",
      "weighted avg       0.39      0.56      0.45     19354\n",
      "\n"
     ]
    },
    {
     "name": "stderr",
     "output_type": "stream",
     "text": [
      "/Users/florencebloch/opt/anaconda3/lib/python3.9/site-packages/sklearn/metrics/_classification.py:1334: UndefinedMetricWarning: Precision and F-score are ill-defined and being set to 0.0 in labels with no predicted samples. Use `zero_division` parameter to control this behavior.\n",
      "  _warn_prf(average, modifier, msg_start, len(result))\n",
      "/Users/florencebloch/opt/anaconda3/lib/python3.9/site-packages/sklearn/metrics/_classification.py:1334: UndefinedMetricWarning: Precision and F-score are ill-defined and being set to 0.0 in labels with no predicted samples. Use `zero_division` parameter to control this behavior.\n",
      "  _warn_prf(average, modifier, msg_start, len(result))\n",
      "/Users/florencebloch/opt/anaconda3/lib/python3.9/site-packages/sklearn/metrics/_classification.py:1334: UndefinedMetricWarning: Precision and F-score are ill-defined and being set to 0.0 in labels with no predicted samples. Use `zero_division` parameter to control this behavior.\n",
      "  _warn_prf(average, modifier, msg_start, len(result))\n"
     ]
    }
   ],
   "source": [
    "print(classification_report(y5_test, y5_preds_class_ros))"
   ]
  },
  {
   "cell_type": "code",
   "execution_count": null,
   "id": "94f9e5d7-b757-4fdc-8179-a52d35692a78",
   "metadata": {},
   "outputs": [],
   "source": [
    "#accuracy is worse with random oversampling and no accuracy for danger class 3 -> try SMOTE"
   ]
  },
  {
   "cell_type": "code",
   "execution_count": 87,
   "id": "4ff26957-6b97-474b-9683-d7f8b8fb77e8",
   "metadata": {},
   "outputs": [
    {
     "name": "stdout",
     "output_type": "stream",
     "text": [
      "[(1.0, 22249), (2.0, 22249), (3.0, 22249), (4.0, 22249)]\n"
     ]
    }
   ],
   "source": [
    "smote = SMOTE(random_state=42)\n",
    "X5_train_smote, y5_train_smote= smote.fit_resample(X5_train, y5_train)\n",
    "# Check the number of records after over sampling\n",
    "print(sorted(Counter(y5_train_smote).items()))"
   ]
  },
  {
   "cell_type": "code",
   "execution_count": 88,
   "id": "822743aa-1787-4b56-a572-94a65c50329e",
   "metadata": {},
   "outputs": [],
   "source": [
    "#create decision tree classifier and try with max depth 2 (later we will optimize)\n",
    "tree = DecisionTreeClassifier(criterion=\"entropy\", max_depth = 2)"
   ]
  },
  {
   "cell_type": "code",
   "execution_count": 89,
   "id": "9e1882ba-5b85-4403-816c-827445ceddcb",
   "metadata": {},
   "outputs": [
    {
     "data": {
      "text/html": [
       "<style>#sk-container-id-6 {color: black;background-color: white;}#sk-container-id-6 pre{padding: 0;}#sk-container-id-6 div.sk-toggleable {background-color: white;}#sk-container-id-6 label.sk-toggleable__label {cursor: pointer;display: block;width: 100%;margin-bottom: 0;padding: 0.3em;box-sizing: border-box;text-align: center;}#sk-container-id-6 label.sk-toggleable__label-arrow:before {content: \"▸\";float: left;margin-right: 0.25em;color: #696969;}#sk-container-id-6 label.sk-toggleable__label-arrow:hover:before {color: black;}#sk-container-id-6 div.sk-estimator:hover label.sk-toggleable__label-arrow:before {color: black;}#sk-container-id-6 div.sk-toggleable__content {max-height: 0;max-width: 0;overflow: hidden;text-align: left;background-color: #f0f8ff;}#sk-container-id-6 div.sk-toggleable__content pre {margin: 0.2em;color: black;border-radius: 0.25em;background-color: #f0f8ff;}#sk-container-id-6 input.sk-toggleable__control:checked~div.sk-toggleable__content {max-height: 200px;max-width: 100%;overflow: auto;}#sk-container-id-6 input.sk-toggleable__control:checked~label.sk-toggleable__label-arrow:before {content: \"▾\";}#sk-container-id-6 div.sk-estimator input.sk-toggleable__control:checked~label.sk-toggleable__label {background-color: #d4ebff;}#sk-container-id-6 div.sk-label input.sk-toggleable__control:checked~label.sk-toggleable__label {background-color: #d4ebff;}#sk-container-id-6 input.sk-hidden--visually {border: 0;clip: rect(1px 1px 1px 1px);clip: rect(1px, 1px, 1px, 1px);height: 1px;margin: -1px;overflow: hidden;padding: 0;position: absolute;width: 1px;}#sk-container-id-6 div.sk-estimator {font-family: monospace;background-color: #f0f8ff;border: 1px dotted black;border-radius: 0.25em;box-sizing: border-box;margin-bottom: 0.5em;}#sk-container-id-6 div.sk-estimator:hover {background-color: #d4ebff;}#sk-container-id-6 div.sk-parallel-item::after {content: \"\";width: 100%;border-bottom: 1px solid gray;flex-grow: 1;}#sk-container-id-6 div.sk-label:hover label.sk-toggleable__label {background-color: #d4ebff;}#sk-container-id-6 div.sk-serial::before {content: \"\";position: absolute;border-left: 1px solid gray;box-sizing: border-box;top: 0;bottom: 0;left: 50%;z-index: 0;}#sk-container-id-6 div.sk-serial {display: flex;flex-direction: column;align-items: center;background-color: white;padding-right: 0.2em;padding-left: 0.2em;position: relative;}#sk-container-id-6 div.sk-item {position: relative;z-index: 1;}#sk-container-id-6 div.sk-parallel {display: flex;align-items: stretch;justify-content: center;background-color: white;position: relative;}#sk-container-id-6 div.sk-item::before, #sk-container-id-6 div.sk-parallel-item::before {content: \"\";position: absolute;border-left: 1px solid gray;box-sizing: border-box;top: 0;bottom: 0;left: 50%;z-index: -1;}#sk-container-id-6 div.sk-parallel-item {display: flex;flex-direction: column;z-index: 1;position: relative;background-color: white;}#sk-container-id-6 div.sk-parallel-item:first-child::after {align-self: flex-end;width: 50%;}#sk-container-id-6 div.sk-parallel-item:last-child::after {align-self: flex-start;width: 50%;}#sk-container-id-6 div.sk-parallel-item:only-child::after {width: 0;}#sk-container-id-6 div.sk-dashed-wrapped {border: 1px dashed gray;margin: 0 0.4em 0.5em 0.4em;box-sizing: border-box;padding-bottom: 0.4em;background-color: white;}#sk-container-id-6 div.sk-label label {font-family: monospace;font-weight: bold;display: inline-block;line-height: 1.2em;}#sk-container-id-6 div.sk-label-container {text-align: center;}#sk-container-id-6 div.sk-container {/* jupyter's `normalize.less` sets `[hidden] { display: none; }` but bootstrap.min.css set `[hidden] { display: none !important; }` so we also need the `!important` here to be able to override the default hidden behavior on the sphinx rendered scikit-learn.org. See: https://github.com/scikit-learn/scikit-learn/issues/21755 */display: inline-block !important;position: relative;}#sk-container-id-6 div.sk-text-repr-fallback {display: none;}</style><div id=\"sk-container-id-6\" class=\"sk-top-container\"><div class=\"sk-text-repr-fallback\"><pre>DecisionTreeClassifier(criterion=&#x27;entropy&#x27;, max_depth=2)</pre><b>In a Jupyter environment, please rerun this cell to show the HTML representation or trust the notebook. <br />On GitHub, the HTML representation is unable to render, please try loading this page with nbviewer.org.</b></div><div class=\"sk-container\" hidden><div class=\"sk-item\"><div class=\"sk-estimator sk-toggleable\"><input class=\"sk-toggleable__control sk-hidden--visually\" id=\"sk-estimator-id-6\" type=\"checkbox\" checked><label for=\"sk-estimator-id-6\" class=\"sk-toggleable__label sk-toggleable__label-arrow\">DecisionTreeClassifier</label><div class=\"sk-toggleable__content\"><pre>DecisionTreeClassifier(criterion=&#x27;entropy&#x27;, max_depth=2)</pre></div></div></div></div></div>"
      ],
      "text/plain": [
       "DecisionTreeClassifier(criterion='entropy', max_depth=2)"
      ]
     },
     "execution_count": 89,
     "metadata": {},
     "output_type": "execute_result"
    }
   ],
   "source": [
    "#fit model to training data\n",
    "tree.fit(X5_train_smote, y5_train_smote)"
   ]
  },
  {
   "cell_type": "code",
   "execution_count": 90,
   "id": "f20997ab-d8a9-4f52-a85c-630a58befd1a",
   "metadata": {},
   "outputs": [
    {
     "data": {
      "text/plain": [
       "array([1., 2., 2., ..., 2., 2., 2.])"
      ]
     },
     "execution_count": 90,
     "metadata": {},
     "output_type": "execute_result"
    }
   ],
   "source": [
    "y5_preds_class_smote = tree.predict(X5_test)\n",
    "y5_preds_class_smote"
   ]
  },
  {
   "cell_type": "code",
   "execution_count": 91,
   "id": "2b79ad36-3b0c-482a-905f-2cb8d4f3839d",
   "metadata": {},
   "outputs": [
    {
     "name": "stdout",
     "output_type": "stream",
     "text": [
      "              precision    recall  f1-score   support\n",
      "\n",
      "         1.0       0.99      0.81      0.89      1879\n",
      "         2.0       0.61      0.94      0.74      9488\n",
      "         3.0       0.74      0.20      0.32      7690\n",
      "         4.0       0.21      0.73      0.33       297\n",
      "\n",
      "    accuracy                           0.63     19354\n",
      "   macro avg       0.64      0.67      0.57     19354\n",
      "weighted avg       0.69      0.63      0.58     19354\n",
      "\n"
     ]
    }
   ],
   "source": [
    "print(classification_report(y5_test, y5_preds_class_smote))"
   ]
  },
  {
   "cell_type": "code",
   "execution_count": null,
   "id": "b7fced46-2a9b-4ac9-b0c2-a5961e6aa1ec",
   "metadata": {},
   "outputs": [],
   "source": [
    "#overall accuracy worse but recall better for 4 ->  improved the model’s ability to capture the minority class\n",
    "#recall for class 3 decreased -> try to also improve that\n",
    "#but precision worse"
   ]
  },
  {
   "cell_type": "code",
   "execution_count": 92,
   "id": "a0a0abc3-78eb-4464-90de-7322ed9825c7",
   "metadata": {},
   "outputs": [],
   "source": [
    "#do smote oversampling on decision tree with cross validation\n",
    "X6 = df4.drop('dangerclasses',axis=1)\n",
    "y6 = df4['dangerclasses']"
   ]
  },
  {
   "cell_type": "code",
   "execution_count": 93,
   "id": "82250fe7-3c3e-4a77-810a-8cd730640810",
   "metadata": {},
   "outputs": [],
   "source": [
    "X6_train, X6_test, y6_train, y6_test = train_test_split(X6, y6, test_size=0.3, random_state=1)"
   ]
  },
  {
   "cell_type": "code",
   "execution_count": 94,
   "id": "6873bd02-705f-4602-bb98-77f8167ac141",
   "metadata": {},
   "outputs": [
    {
     "name": "stdout",
     "output_type": "stream",
     "text": [
      "[(1.0, 22249), (2.0, 22249), (3.0, 22249), (4.0, 22249)]\n"
     ]
    }
   ],
   "source": [
    "smote = SMOTE(random_state=42)\n",
    "X6_train_smote, y6_train_smote= smote.fit_resample(X6_train, y6_train)\n",
    "# Check the number of records after over sampling\n",
    "print(sorted(Counter(y6_train_smote).items()))"
   ]
  },
  {
   "cell_type": "code",
   "execution_count": 95,
   "id": "92819cc4-e3b6-4200-b6cb-99d8b847c26f",
   "metadata": {},
   "outputs": [
    {
     "data": {
      "text/plain": [
       "{'max_depth': range(1, 30), 'min_samples_leaf': [1, 10, 20, 30, 50, 10]}"
      ]
     },
     "execution_count": 95,
     "metadata": {},
     "output_type": "execute_result"
    }
   ],
   "source": [
    "parameters = {\"max_depth\":range(1,30),\n",
    "              \"min_samples_leaf\":[1, 10, 20, 30, 50,10]}\n",
    "parameters "
   ]
  },
  {
   "cell_type": "code",
   "execution_count": 96,
   "id": "24f62d3b-cbb2-444b-be16-3e02fe0d1932",
   "metadata": {},
   "outputs": [],
   "source": [
    "tree_CV = GridSearchCV(DecisionTreeClassifier(criterion=\"entropy\", random_state = 1), parameters, cv=5)"
   ]
  },
  {
   "cell_type": "code",
   "execution_count": 97,
   "id": "f86d5beb-7340-4a6f-bade-59d6bb6560cb",
   "metadata": {},
   "outputs": [
    {
     "data": {
      "text/html": [
       "<style>#sk-container-id-7 {color: black;background-color: white;}#sk-container-id-7 pre{padding: 0;}#sk-container-id-7 div.sk-toggleable {background-color: white;}#sk-container-id-7 label.sk-toggleable__label {cursor: pointer;display: block;width: 100%;margin-bottom: 0;padding: 0.3em;box-sizing: border-box;text-align: center;}#sk-container-id-7 label.sk-toggleable__label-arrow:before {content: \"▸\";float: left;margin-right: 0.25em;color: #696969;}#sk-container-id-7 label.sk-toggleable__label-arrow:hover:before {color: black;}#sk-container-id-7 div.sk-estimator:hover label.sk-toggleable__label-arrow:before {color: black;}#sk-container-id-7 div.sk-toggleable__content {max-height: 0;max-width: 0;overflow: hidden;text-align: left;background-color: #f0f8ff;}#sk-container-id-7 div.sk-toggleable__content pre {margin: 0.2em;color: black;border-radius: 0.25em;background-color: #f0f8ff;}#sk-container-id-7 input.sk-toggleable__control:checked~div.sk-toggleable__content {max-height: 200px;max-width: 100%;overflow: auto;}#sk-container-id-7 input.sk-toggleable__control:checked~label.sk-toggleable__label-arrow:before {content: \"▾\";}#sk-container-id-7 div.sk-estimator input.sk-toggleable__control:checked~label.sk-toggleable__label {background-color: #d4ebff;}#sk-container-id-7 div.sk-label input.sk-toggleable__control:checked~label.sk-toggleable__label {background-color: #d4ebff;}#sk-container-id-7 input.sk-hidden--visually {border: 0;clip: rect(1px 1px 1px 1px);clip: rect(1px, 1px, 1px, 1px);height: 1px;margin: -1px;overflow: hidden;padding: 0;position: absolute;width: 1px;}#sk-container-id-7 div.sk-estimator {font-family: monospace;background-color: #f0f8ff;border: 1px dotted black;border-radius: 0.25em;box-sizing: border-box;margin-bottom: 0.5em;}#sk-container-id-7 div.sk-estimator:hover {background-color: #d4ebff;}#sk-container-id-7 div.sk-parallel-item::after {content: \"\";width: 100%;border-bottom: 1px solid gray;flex-grow: 1;}#sk-container-id-7 div.sk-label:hover label.sk-toggleable__label {background-color: #d4ebff;}#sk-container-id-7 div.sk-serial::before {content: \"\";position: absolute;border-left: 1px solid gray;box-sizing: border-box;top: 0;bottom: 0;left: 50%;z-index: 0;}#sk-container-id-7 div.sk-serial {display: flex;flex-direction: column;align-items: center;background-color: white;padding-right: 0.2em;padding-left: 0.2em;position: relative;}#sk-container-id-7 div.sk-item {position: relative;z-index: 1;}#sk-container-id-7 div.sk-parallel {display: flex;align-items: stretch;justify-content: center;background-color: white;position: relative;}#sk-container-id-7 div.sk-item::before, #sk-container-id-7 div.sk-parallel-item::before {content: \"\";position: absolute;border-left: 1px solid gray;box-sizing: border-box;top: 0;bottom: 0;left: 50%;z-index: -1;}#sk-container-id-7 div.sk-parallel-item {display: flex;flex-direction: column;z-index: 1;position: relative;background-color: white;}#sk-container-id-7 div.sk-parallel-item:first-child::after {align-self: flex-end;width: 50%;}#sk-container-id-7 div.sk-parallel-item:last-child::after {align-self: flex-start;width: 50%;}#sk-container-id-7 div.sk-parallel-item:only-child::after {width: 0;}#sk-container-id-7 div.sk-dashed-wrapped {border: 1px dashed gray;margin: 0 0.4em 0.5em 0.4em;box-sizing: border-box;padding-bottom: 0.4em;background-color: white;}#sk-container-id-7 div.sk-label label {font-family: monospace;font-weight: bold;display: inline-block;line-height: 1.2em;}#sk-container-id-7 div.sk-label-container {text-align: center;}#sk-container-id-7 div.sk-container {/* jupyter's `normalize.less` sets `[hidden] { display: none; }` but bootstrap.min.css set `[hidden] { display: none !important; }` so we also need the `!important` here to be able to override the default hidden behavior on the sphinx rendered scikit-learn.org. See: https://github.com/scikit-learn/scikit-learn/issues/21755 */display: inline-block !important;position: relative;}#sk-container-id-7 div.sk-text-repr-fallback {display: none;}</style><div id=\"sk-container-id-7\" class=\"sk-top-container\"><div class=\"sk-text-repr-fallback\"><pre>GridSearchCV(cv=5,\n",
       "             estimator=DecisionTreeClassifier(criterion=&#x27;entropy&#x27;,\n",
       "                                              random_state=1),\n",
       "             param_grid={&#x27;max_depth&#x27;: range(1, 30),\n",
       "                         &#x27;min_samples_leaf&#x27;: [1, 10, 20, 30, 50, 10]})</pre><b>In a Jupyter environment, please rerun this cell to show the HTML representation or trust the notebook. <br />On GitHub, the HTML representation is unable to render, please try loading this page with nbviewer.org.</b></div><div class=\"sk-container\" hidden><div class=\"sk-item sk-dashed-wrapped\"><div class=\"sk-label-container\"><div class=\"sk-label sk-toggleable\"><input class=\"sk-toggleable__control sk-hidden--visually\" id=\"sk-estimator-id-7\" type=\"checkbox\" ><label for=\"sk-estimator-id-7\" class=\"sk-toggleable__label sk-toggleable__label-arrow\">GridSearchCV</label><div class=\"sk-toggleable__content\"><pre>GridSearchCV(cv=5,\n",
       "             estimator=DecisionTreeClassifier(criterion=&#x27;entropy&#x27;,\n",
       "                                              random_state=1),\n",
       "             param_grid={&#x27;max_depth&#x27;: range(1, 30),\n",
       "                         &#x27;min_samples_leaf&#x27;: [1, 10, 20, 30, 50, 10]})</pre></div></div></div><div class=\"sk-parallel\"><div class=\"sk-parallel-item\"><div class=\"sk-item\"><div class=\"sk-label-container\"><div class=\"sk-label sk-toggleable\"><input class=\"sk-toggleable__control sk-hidden--visually\" id=\"sk-estimator-id-8\" type=\"checkbox\" ><label for=\"sk-estimator-id-8\" class=\"sk-toggleable__label sk-toggleable__label-arrow\">estimator: DecisionTreeClassifier</label><div class=\"sk-toggleable__content\"><pre>DecisionTreeClassifier(criterion=&#x27;entropy&#x27;, random_state=1)</pre></div></div></div><div class=\"sk-serial\"><div class=\"sk-item\"><div class=\"sk-estimator sk-toggleable\"><input class=\"sk-toggleable__control sk-hidden--visually\" id=\"sk-estimator-id-9\" type=\"checkbox\" ><label for=\"sk-estimator-id-9\" class=\"sk-toggleable__label sk-toggleable__label-arrow\">DecisionTreeClassifier</label><div class=\"sk-toggleable__content\"><pre>DecisionTreeClassifier(criterion=&#x27;entropy&#x27;, random_state=1)</pre></div></div></div></div></div></div></div></div></div></div>"
      ],
      "text/plain": [
       "GridSearchCV(cv=5,\n",
       "             estimator=DecisionTreeClassifier(criterion='entropy',\n",
       "                                              random_state=1),\n",
       "             param_grid={'max_depth': range(1, 30),\n",
       "                         'min_samples_leaf': [1, 10, 20, 30, 50, 10]})"
      ]
     },
     "execution_count": 97,
     "metadata": {},
     "output_type": "execute_result"
    }
   ],
   "source": [
    "tree_CV.fit(X6_train_smote, y6_train_smote)"
   ]
  },
  {
   "cell_type": "code",
   "execution_count": 98,
   "id": "1b7a9bdb-0b0d-49c4-b953-26acc0c4a7b9",
   "metadata": {},
   "outputs": [
    {
     "data": {
      "text/plain": [
       "{'max_depth': 19, 'min_samples_leaf': 1}"
      ]
     },
     "execution_count": 98,
     "metadata": {},
     "output_type": "execute_result"
    }
   ],
   "source": [
    "tree_CV.best_params_"
   ]
  },
  {
   "cell_type": "code",
   "execution_count": 99,
   "id": "df5f1f0b-d151-4f23-89a8-e8b4a5c0a4e6",
   "metadata": {},
   "outputs": [
    {
     "name": "stdout",
     "output_type": "stream",
     "text": [
      "              precision    recall  f1-score   support\n",
      "\n",
      "         1.0       0.81      0.92      0.86      1879\n",
      "         2.0       0.73      0.70      0.71      9488\n",
      "         3.0       0.65      0.63      0.64      7690\n",
      "         4.0       0.24      0.54      0.33       297\n",
      "\n",
      "    accuracy                           0.69     19354\n",
      "   macro avg       0.61      0.69      0.64     19354\n",
      "weighted avg       0.70      0.69      0.69     19354\n",
      "\n"
     ]
    }
   ],
   "source": [
    "y_pred_class6 = tree_CV.predict(X6_test)\n",
    "print(classification_report(y6_test, y_pred_class6))"
   ]
  },
  {
   "cell_type": "code",
   "execution_count": null,
   "id": "c7033590-27b1-45d9-9d30-23451ee975d0",
   "metadata": {},
   "outputs": [],
   "source": [
    "#improved recall and accuracy but still not accuracy we want"
   ]
  },
  {
   "cell_type": "code",
   "execution_count": 100,
   "id": "67d475ab-2082-4c0c-9d0f-1608707ab332",
   "metadata": {},
   "outputs": [
    {
     "data": {
      "image/png": "[encoded data removed]",
      "text/plain": [
       "<Figure size 432x288 with 2 Axes>"
      ]
     },
     "metadata": {
      "needs_background": "light"
     },
     "output_type": "display_data"
    }
   ],
   "source": [
    "import numpy as np\n",
    "import matplotlib.pyplot as plt\n",
    "import seaborn as sns\n",
    "from sklearn.metrics import confusion_matrix\n",
    "\n",
    "#create confusion matrix and heatmap\n",
    "ax= plt.subplot()\n",
    "cm = confusion_matrix(y6_test, y_pred_class6) \n",
    "sns.heatmap(cm, cmap=\"Reds\", annot=True,fmt= \"d\", ax = ax); #fmt=d so we see whole numbers not e^something\n",
    "\n",
    "#define ticks, labels and title for heatmap\n",
    "class_labels = [\"1\",\"2\",\"3\",\"4\"]\n",
    "tick_marks = np.arange(len(class_labels))+0.5 #+0.5 for position of the labels\n",
    "ax.set_xticks(tick_marks)\n",
    "ax.set_xticklabels(class_labels,rotation=0) #rotation = 0 -> labels are horizontal not rotated\n",
    "ax.set_yticks(tick_marks)\n",
    "ax.set_yticklabels(class_labels,rotation=0)\n",
    "\n",
    "ax.set_xlabel('Predicted values');\n",
    "ax.set_ylabel('True values');\n",
    "ax.set_title('Confusion Matrix Decision Tree CV Oversampling');"
   ]
  },
  {
   "cell_type": "code",
   "execution_count": 101,
   "id": "6f3597f4-2f1c-4671-b417-60f0fbffee1a",
   "metadata": {},
   "outputs": [],
   "source": [
    "#do smote on random forest to try to improve accuracy\n",
    "X7 = df4.drop('dangerclasses',axis=1)\n",
    "y7 = df4['dangerclasses']"
   ]
  },
  {
   "cell_type": "code",
   "execution_count": 102,
   "id": "78f5a606-e414-4569-aaa5-98b2e02bfef7",
   "metadata": {},
   "outputs": [],
   "source": [
    "X7_train, X7_test, y7_train, y7_test = train_test_split(X7, y7, test_size=0.3, random_state=1)"
   ]
  },
  {
   "cell_type": "code",
   "execution_count": 103,
   "id": "05dd33b9-edbd-431b-9320-764d1dbfabb2",
   "metadata": {},
   "outputs": [
    {
     "name": "stdout",
     "output_type": "stream",
     "text": [
      "[(1.0, 22249), (2.0, 22249), (3.0, 22249), (4.0, 22249)]\n"
     ]
    }
   ],
   "source": [
    "smote = SMOTE(random_state=42)\n",
    "X7_train_smote, y7_train_smote= smote.fit_resample(X7_train, y7_train)\n",
    "# Check the number of records after over sampling\n",
    "print(sorted(Counter(y7_train_smote).items()))"
   ]
  },
  {
   "cell_type": "code",
   "execution_count": 104,
   "id": "687ac202-46c8-4146-af1e-55e176abd5f1",
   "metadata": {},
   "outputs": [],
   "source": [
    "forest = RandomForestClassifier(n_estimators = 750)"
   ]
  },
  {
   "cell_type": "code",
   "execution_count": 105,
   "id": "66a36c33-48f8-458b-815e-a5d821cbc29e",
   "metadata": {},
   "outputs": [
    {
     "data": {
      "text/html": [
       "<style>#sk-container-id-8 {color: black;background-color: white;}#sk-container-id-8 pre{padding: 0;}#sk-container-id-8 div.sk-toggleable {background-color: white;}#sk-container-id-8 label.sk-toggleable__label {cursor: pointer;display: block;width: 100%;margin-bottom: 0;padding: 0.3em;box-sizing: border-box;text-align: center;}#sk-container-id-8 label.sk-toggleable__label-arrow:before {content: \"▸\";float: left;margin-right: 0.25em;color: #696969;}#sk-container-id-8 label.sk-toggleable__label-arrow:hover:before {color: black;}#sk-container-id-8 div.sk-estimator:hover label.sk-toggleable__label-arrow:before {color: black;}#sk-container-id-8 div.sk-toggleable__content {max-height: 0;max-width: 0;overflow: hidden;text-align: left;background-color: #f0f8ff;}#sk-container-id-8 div.sk-toggleable__content pre {margin: 0.2em;color: black;border-radius: 0.25em;background-color: #f0f8ff;}#sk-container-id-8 input.sk-toggleable__control:checked~div.sk-toggleable__content {max-height: 200px;max-width: 100%;overflow: auto;}#sk-container-id-8 input.sk-toggleable__control:checked~label.sk-toggleable__label-arrow:before {content: \"▾\";}#sk-container-id-8 div.sk-estimator input.sk-toggleable__control:checked~label.sk-toggleable__label {background-color: #d4ebff;}#sk-container-id-8 div.sk-label input.sk-toggleable__control:checked~label.sk-toggleable__label {background-color: #d4ebff;}#sk-container-id-8 input.sk-hidden--visually {border: 0;clip: rect(1px 1px 1px 1px);clip: rect(1px, 1px, 1px, 1px);height: 1px;margin: -1px;overflow: hidden;padding: 0;position: absolute;width: 1px;}#sk-container-id-8 div.sk-estimator {font-family: monospace;background-color: #f0f8ff;border: 1px dotted black;border-radius: 0.25em;box-sizing: border-box;margin-bottom: 0.5em;}#sk-container-id-8 div.sk-estimator:hover {background-color: #d4ebff;}#sk-container-id-8 div.sk-parallel-item::after {content: \"\";width: 100%;border-bottom: 1px solid gray;flex-grow: 1;}#sk-container-id-8 div.sk-label:hover label.sk-toggleable__label {background-color: #d4ebff;}#sk-container-id-8 div.sk-serial::before {content: \"\";position: absolute;border-left: 1px solid gray;box-sizing: border-box;top: 0;bottom: 0;left: 50%;z-index: 0;}#sk-container-id-8 div.sk-serial {display: flex;flex-direction: column;align-items: center;background-color: white;padding-right: 0.2em;padding-left: 0.2em;position: relative;}#sk-container-id-8 div.sk-item {position: relative;z-index: 1;}#sk-container-id-8 div.sk-parallel {display: flex;align-items: stretch;justify-content: center;background-color: white;position: relative;}#sk-container-id-8 div.sk-item::before, #sk-container-id-8 div.sk-parallel-item::before {content: \"\";position: absolute;border-left: 1px solid gray;box-sizing: border-box;top: 0;bottom: 0;left: 50%;z-index: -1;}#sk-container-id-8 div.sk-parallel-item {display: flex;flex-direction: column;z-index: 1;position: relative;background-color: white;}#sk-container-id-8 div.sk-parallel-item:first-child::after {align-self: flex-end;width: 50%;}#sk-container-id-8 div.sk-parallel-item:last-child::after {align-self: flex-start;width: 50%;}#sk-container-id-8 div.sk-parallel-item:only-child::after {width: 0;}#sk-container-id-8 div.sk-dashed-wrapped {border: 1px dashed gray;margin: 0 0.4em 0.5em 0.4em;box-sizing: border-box;padding-bottom: 0.4em;background-color: white;}#sk-container-id-8 div.sk-label label {font-family: monospace;font-weight: bold;display: inline-block;line-height: 1.2em;}#sk-container-id-8 div.sk-label-container {text-align: center;}#sk-container-id-8 div.sk-container {/* jupyter's `normalize.less` sets `[hidden] { display: none; }` but bootstrap.min.css set `[hidden] { display: none !important; }` so we also need the `!important` here to be able to override the default hidden behavior on the sphinx rendered scikit-learn.org. See: https://github.com/scikit-learn/scikit-learn/issues/21755 */display: inline-block !important;position: relative;}#sk-container-id-8 div.sk-text-repr-fallback {display: none;}</style><div id=\"sk-container-id-8\" class=\"sk-top-container\"><div class=\"sk-text-repr-fallback\"><pre>RandomForestClassifier(n_estimators=750)</pre><b>In a Jupyter environment, please rerun this cell to show the HTML representation or trust the notebook. <br />On GitHub, the HTML representation is unable to render, please try loading this page with nbviewer.org.</b></div><div class=\"sk-container\" hidden><div class=\"sk-item\"><div class=\"sk-estimator sk-toggleable\"><input class=\"sk-toggleable__control sk-hidden--visually\" id=\"sk-estimator-id-10\" type=\"checkbox\" checked><label for=\"sk-estimator-id-10\" class=\"sk-toggleable__label sk-toggleable__label-arrow\">RandomForestClassifier</label><div class=\"sk-toggleable__content\"><pre>RandomForestClassifier(n_estimators=750)</pre></div></div></div></div></div>"
      ],
      "text/plain": [
       "RandomForestClassifier(n_estimators=750)"
      ]
     },
     "execution_count": 105,
     "metadata": {},
     "output_type": "execute_result"
    }
   ],
   "source": [
    "forest.fit(X7_train_smote,y7_train_smote)"
   ]
  },
  {
   "cell_type": "code",
   "execution_count": 106,
   "id": "7bc16027-2bfa-43f3-8cbf-716590470505",
   "metadata": {},
   "outputs": [
    {
     "name": "stdout",
     "output_type": "stream",
     "text": [
      "              precision    recall  f1-score   support\n",
      "\n",
      "         1.0       0.93      0.90      0.91      1879\n",
      "         2.0       0.77      0.79      0.78      9488\n",
      "         3.0       0.73      0.70      0.71      7690\n",
      "         4.0       0.35      0.62      0.45       297\n",
      "\n",
      "    accuracy                           0.76     19354\n",
      "   macro avg       0.70      0.75      0.71     19354\n",
      "weighted avg       0.76      0.76      0.76     19354\n",
      "\n"
     ]
    }
   ],
   "source": [
    "y_pred_class7 = forest.predict(X7_test)\n",
    "print(classification_report(y7_test, y_pred_class7))"
   ]
  },
  {
   "cell_type": "code",
   "execution_count": 107,
   "id": "0f3bc688-6170-4104-be29-658dcbd4c082",
   "metadata": {},
   "outputs": [
    {
     "data": {
      "image/png": "[encoded data removed]",
      "text/plain": [
       "<Figure size 432x288 with 2 Axes>"
      ]
     },
     "metadata": {
      "needs_background": "light"
     },
     "output_type": "display_data"
    }
   ],
   "source": [
    "import numpy as np\n",
    "import matplotlib.pyplot as plt\n",
    "import seaborn as sns\n",
    "from sklearn.metrics import confusion_matrix\n",
    "\n",
    "#create confusion matrix and heatmap\n",
    "ax= plt.subplot()\n",
    "cm = confusion_matrix(y3_test, y_pred_class3) \n",
    "sns.heatmap(cm, cmap=\"Reds\", annot=True,fmt= \"d\", ax = ax); #fmt=d so we see whole numbers not e^something\n",
    "\n",
    "#define ticks, labels and title for heatmap\n",
    "class_labels = [\"1\",\"2\",\"3\",\"4\"]\n",
    "tick_marks = np.arange(len(class_labels))+0.5 #+0.5 for position of the labels\n",
    "ax.set_xticks(tick_marks)\n",
    "ax.set_xticklabels(class_labels,rotation=0) #rotation = 0 -> labels are horizontal not rotated\n",
    "ax.set_yticks(tick_marks)\n",
    "ax.set_yticklabels(class_labels,rotation=0)\n",
    "\n",
    "ax.set_xlabel('Predicted values');\n",
    "ax.set_ylabel('True values');\n",
    "ax.set_title('Confusion Matrix Random Forest Oversampling');"
   ]
  }
 ],
 "metadata": {
  "kernelspec": {
   "display_name": "Python 3 (ipykernel)",
   "language": "python",
   "name": "python3"
  },
  "language_info": {
   "codemirror_mode": {
    "name": "ipython",
    "version": 3
   },
   "file_extension": ".py",
   "mimetype": "text/x-python",
   "name": "python",
   "nbconvert_exporter": "python",
   "pygments_lexer": "ipython3",
   "version": "3.9.12"
  }
 },
 "nbformat": 4,
 "nbformat_minor": 5
}
